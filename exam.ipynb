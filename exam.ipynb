{
 "cells": [
  {
   "cell_type": "code",
   "execution_count": 1,
   "metadata": {
    "collapsed": true
   },
   "outputs": [],
   "source": [
    "import re\n",
    "import sys\n",
    "import string\n",
    "import numpy as np\n",
    "import pandas as pd\n",
    "import seaborn as sns\n",
    "from itertools import cycle\n",
    "from nltk import word_tokenize\n",
    "import matplotlib.pyplot as plt\n",
    "from nltk.corpus import stopwords\n",
    "from sklearn.naive_bayes import MultinomialNB\n",
    "from nltk.tokenize import TreebankWordTokenizer\n",
    "from nltk.stem.wordnet import WordNetLemmatizer\n",
    "from nltk.stem.lancaster import LancasterStemmer\n",
    "from sklearn.feature_extraction.text import CountVectorizer, TfidfTransformer, TfidfVectorizer\n",
    "from sklearn.metrics import classification_report, f1_score, accuracy_score, confusion_matrix, roc_curve, auc\n",
    "from sklearn.pipeline import Pipeline\n",
    "from sklearn.model_selection import StratifiedKFold, cross_val_score, train_test_split, GridSearchCV\n",
    "from sklearn.tree import DecisionTreeClassifier\n",
    "from sklearn.ensemble import RandomForestClassifier\n",
    "\n",
    "%matplotlib inline"
   ]
  },
  {
   "cell_type": "code",
   "execution_count": 42,
   "metadata": {
    "collapsed": false
   },
   "outputs": [
    {
     "data": {
      "text/html": [
       "<div>\n",
       "<table border=\"1\" class=\"dataframe\">\n",
       "  <thead>\n",
       "    <tr style=\"text-align: right;\">\n",
       "      <th></th>\n",
       "      <th>name</th>\n",
       "      <th>house</th>\n",
       "      <th>text</th>\n",
       "    </tr>\n",
       "  </thead>\n",
       "  <tbody>\n",
       "    <tr>\n",
       "      <th>0</th>\n",
       "      <td>Tom Riddle</td>\n",
       "      <td>Slytherin</td>\n",
       "      <td>Voldemort was considered by many to be \"the mo...</td>\n",
       "    </tr>\n",
       "    <tr>\n",
       "      <th>1</th>\n",
       "      <td>Harry Potter</td>\n",
       "      <td>Gryffindor</td>\n",
       "      <td>Harry was an extremely brave, loyal, and selfl...</td>\n",
       "    </tr>\n",
       "    <tr>\n",
       "      <th>2</th>\n",
       "      <td>Dolores Umbridge</td>\n",
       "      <td>Slytherin</td>\n",
       "      <td>Dolores Umbridge was nothing short of a sociop...</td>\n",
       "    </tr>\n",
       "    <tr>\n",
       "      <th>3</th>\n",
       "      <td>Horace Slughorn</td>\n",
       "      <td>Slytherin</td>\n",
       "      <td>Horace Slughorn was described as having a bumb...</td>\n",
       "    </tr>\n",
       "    <tr>\n",
       "      <th>4</th>\n",
       "      <td>Albus Dumbledore</td>\n",
       "      <td>Gryffindor</td>\n",
       "      <td>Considered to be the most powerful wizard of h...</td>\n",
       "    </tr>\n",
       "  </tbody>\n",
       "</table>\n",
       "</div>"
      ],
      "text/plain": [
       "               name       house  \\\n",
       "0        Tom Riddle   Slytherin   \n",
       "1      Harry Potter  Gryffindor   \n",
       "2  Dolores Umbridge   Slytherin   \n",
       "3   Horace Slughorn   Slytherin   \n",
       "4  Albus Dumbledore  Gryffindor   \n",
       "\n",
       "                                                text  \n",
       "0  Voldemort was considered by many to be \"the mo...  \n",
       "1  Harry was an extremely brave, loyal, and selfl...  \n",
       "2  Dolores Umbridge was nothing short of a sociop...  \n",
       "3  Horace Slughorn was described as having a bumb...  \n",
       "4  Considered to be the most powerful wizard of h...  "
      ]
     },
     "execution_count": 42,
     "metadata": {},
     "output_type": "execute_result"
    }
   ],
   "source": [
    "path = 'hp-with-text.csv'\n",
    "\n",
    "data = pd.read_csv(path, sep='\\t')\n",
    "data.head()"
   ]
  },
  {
   "cell_type": "code",
   "execution_count": 43,
   "metadata": {
    "collapsed": false
   },
   "outputs": [
    {
     "data": {
      "text/plain": [
       "'Voldemort was considered by many to be \"the most evil wizard in hundreds and hundreds of years\". His nature far exceeded that of any common evil doer and Dumbledore stated that he \"went beyond normal evil\" in the extent of his crimes. Hagrid claimed that while all Dark Wizards \"go bad\", Voldemort went \"worse than worse\". Indeed, Voldemort speedily developed into a power-obsessed megalomaniac of the worst kind and the worst of any known Dark Wizard, even Gellert Grindelwald, his predecessor. He was highly intelligent, as evidenced by his top performance at Hogwarts and his tremendous magical achievements, but his interests were narrowly focused on the usefulness of people, objects, and powers to his goals. His inability to see the larger picture and inattention to events, powers and human traits that were not immediately useful to him was a serious flaw that led to most of his setbacks and ultimately his downfall. After his first defeat, many (namely Hagrid, Dumbledore, Neville\\'s grandmother among others) believed that he had yet to be truly vanquished, and would one day return on the grounds that there was not enough humanity left in him to die in the first place. During his lifetime including much of his childhood, he was shown to be highly ruthless, cruel, merciless, and sadistic, showing as little mercy to his followers as he did his enemies. According to Dumbledore, he felt no desire or need for human companionship or friendship. The closest he came to caring about another living being was feeling affection for his pet snake, Nagini. Voldemort thought of everything in terms of power (which he equated to domination through magical ability). He was somewhat willfully ignorant of people or matters which he considered to have no value. He was dismissive of the unique magic of house-elves due to their social status, and thus was dealt major setbacks by house-elves on two occasions: first Kreacher, who escaped the cave with the locket due to the sacrifice of his beloved master, Regulus Black, and Dobby, who bypassed the defences of Voldemort\\'s headquarters (because Voldemort had neglected to render it inaccessible to house elves as he had to wizards) and helped Harry Potter escape right before Voldemort could arrive to kill him. Voldemort was extremely independent, and preferred to operate in secrecy whenever possible. Dumbledore claimed that even if he had managed to obtain the Elixir of Life, he would have eventually found his dependency on it intolerable because it would have robbed him of his sense of self-reliance. Instead, he preferred to make Horcruxes, which were magical extensions of himself. Voldemort was a pathological narcissist, and so extremely arrogant and believed in his superiority to the point that he frequently referred to himself in the third person as \"Lord Voldemort.\" It was said that if Voldemort looked into the Mirror of Erised, he would see himself, all-powerful and eternal. Voldemort had very little attachment to anything that did not amplify his fame or existence, describing his followers as his \"friends\". However, he viewed them as nothing more than disposable pawns to carry out his tasks, only valuing their usefulness and physical abilities. Despite doting on pure-bloods, he was willing to execute any of them (or anyone else) if it suited him, even if they were completely loyal to him. Even his wand, which served him powerfully and faithfully for nearly six decades, was disposable when he discovered the even more powerful Elder Wand. The reason he valued his horcruxes was because they were an extension of himself, having a portion of his soul encased within each, while the reason he chose the objects he used was because they were significant in either historical value or personal sentiments, which therefore would emphasise his status as the most famous wizard on the entire planet. Voldemort himself did not value his fellow human beings except to the extent that they were useful to him. He often described his followers as \\'friends\\' and his Death Eaters even as \\'family\\', but in no way treated them like an ordinary person does their friends or family. He demanded his followers\\' unswerving loyalty and obedience, spitefully took revenge for their mistakes or even bad luck by torture or going after family members and mistreated or even killed them at the slightest provocation. His cold-blooded murder of the man he believed to be one of his most powerful and useful followers, Severus Snape, just to be sure he was the true master of the Elder Wand and his callous attempt to sacrifice Draco Malfoy by ordering him to assassinate Dumbledore as punishment for Lucius Malfoy\\'s blunders, are evidence of this. The fact that Voldemort was conceived under slaved love (theorised to be a love potion by Dumbledore or to be the Imperius Curse by Harry)—administered/used by witch Merope Gaunt to Muggle Tom Riddle Snr - was related to his inability to understand love: it was a symbolic way of showing that he came from a loveless union - but of course, everything would have changed if Merope had survived and raised him herself and cared for him. The enchantment under which Tom Riddle fathered Voldemort is important because it shows coercion, and there can\\'t be many more prejudicial ways to enter the world than as the result of such a union. As a child at Hogwarts, and in the early years of his adult life, Riddle was considered an intelligent, polite young man who showed an enthusiasm to learn and was able to use his superficial charm to make many do his bidding, showing his skill at being an exceptional master manipulator. He described himself being viewed by others as poor, but brilliant, parent-less, but so brave, a school prefect, a model student. His reputation as a model pupil had earned him the trust and respect of his teachers and of the customers he was sent to deal with at Borgin and Burkes. However, this was all a ruse, as he was very manipulative, with Dumbledore claiming that there were a number of \"nasty incidents\" that happened throughout his time at Hogwarts that the authorities were never completely able to link to him. In his youth, Voldemort was capable of charming everyone at Hogwarts except Albus Dumbledore and surround himself with a group of \"friends\" which would eventually become his Death Eaters. Voldemort\\'s arrogance inevitably led to his major downfall. He also suffered from thanatophobia, a pathological fear of death, which he regarded as a shameful and ignominious human weakness. He equated death with being defeated or loss of domination, the ultimate humiliation. His Boggart would be his own corpse, which shows his extreme fear of death. The biggest difference between Harry and Voldemort was that Harry, as the true Master of Death, accepted mortality, which ultimately made him a stronger person than his nemesis. Voldemort had an extremely obsessive nature. When Harry glimpsed into his mind, he often saw repetitive imagery, symptomatic of Voldemort\\'s inability to let go of thoughts or diversify his interests. In his fifth year, he travelled with Voldemort down the locked corridor in the Department of Mysteries for many nights. During the second war, he followed Voldemort\\'s unfolding obsession with the merry-faced thief, Grindelwald, and the Elder Wand. He was able to use Voldemort\\'s compulsive mental check of his horcruxes to uncover the location of the one he had not yet found: Ravenclaw\\'s Diadem, hidden at Hogwarts. Voldemort tended to undergo extreme obsessions, such as immortality, pure-blood supremacy, the attempts on Harry Potter\\'s life, and the search for the Elder Wand. This was reflected in his daily habits as well: he had a magpie-like tendency to collect lots of small objects and hold onto them. As a child, he is shown hoarding things that he stole from the other orphans, which eventually blossomed into his conception of the Horcruxes. Dumbledore said to Harry in the Limbo King\\'s Cross that his obsession with the Elder Wand was to rival his obsession with Harry himself. The Dark Lord stopped at nothing in his many attempts to kill Harry Potter. The search for the Elder Wand was an extension of his obsession with murdering Harry, which, in turn, was an extension of his preoccupation with immortality (which he felt that Harry\\'s very existence threatened). Ironically, his obsession of eliminating Harry in person, an obsession seemingly multiplied by every single failed attempt, is what led to his own death. Dumbledore noted that Voldemort was no different from any other tyrant in paranoid fear of an individual rising against him because of his own obsessive actions. This trait could be traced back to his childhood when he was convinced at first that Dumbledore had come to take him to an asylum. In another ironic twist, this indicates that Voldemort failed to make himself unique as he had the flaw of any evil tyrant. Few ever saw anything troubling about the young Tom Riddle, but Albus Dumbledore observed psychological issues and their potential dark implications from their very first meeting. Dumbledore described a \"magpie-like tendency\" to collect trophies, to obsess over his collection, that led him to make a correct guess at what was behind the secret of his immortality: multiple Horcruxes. Dumbledore noted a similarity between Voldemort and other famous tyrants, in that obsessive actions driven by paranoia can bring about the thing most feared. Tom Riddle remained charming and well-liked as a young adult, and at first seemed to be aiming lower on the scale of ambition than his talents would have supported. He used his stint at Borgin and Burke\\'s to develop his knowledge of the Dark Arts, and to track and collect powerful magical objects. Only a few people ever had an ominous feeling about his imminent rise as a powerful dark wizard: Hepzibah Smith, who saw his eyes flash red with avarice when he saw her treasured artefacts, and, again, Albus Dumbledore, who refused to give him a job teaching at Hogwarts. realising he would use his influence as a teacher to recruit students and do evil. Gradually taking more and more power, eliminating rivals and those who stood up to him, and transforming his appearance and his social image into a serpentine persona that inspired a level of fear so profound that wizards avoided mentioning his name even after they thought him dead, Voldemort reached the peak of his powers in 1980. Despite his narcissistic nature, Voldemort could acknowledge his mistakes; he accepted the fact that the destruction of his body was more his fault then Harry\\'s, even going so far to openly admit this to his Death Eaters. However, though Voldemort could acknowledge his mistakes, Harry said that he didn\\'t learn from them, especially relating to matters he did not value such as love. When he was angry, Voldemort was unpredictable: he was capable of being cold and calm, but could also explode with rage and when he lost his temper he never hesitated to slay even his own loyal followers. He expected complete respect from his Death Eaters but did not truly care for any of them in return. He did rescue Bellatrix Lestrange after his duel with Albus Dumbledore, and also screamed and attempted to avenge her after she was killed by Molly Weasely. It is likely, though, that he was furious about the loss of a very powerful and talented servant as well as the mother of his daughter Delphini, rather than truly missing Bellatrix as a person. Bellatrix herself was obsessively in love with him (incidentally, this somewhat mirrored the fascination that Voldemort\\'s mother had with his father), but he never returned the romantic feelings due to his lack of understanding and desire for love, despite having engaged in a purely physical relationship with Bellatrix, that resulted in the birth of their daughter. One flaw that Voldemort did not possess, despite his egomania, was thinking himself infallible. He acknowledged his mistakes on several occasions, and with the candour and charm that had won him followers in the first place, he sought to make hay of his missteps, openly revealing such unflattering information to his followers and using it to illustrate how he could use his wits to further enhance his powers. Upon his return, Voldemort showed a degree of such calculated humility. He did not announce his rebirth to anyone besides supporters, realising he was not yet strong enough to take on the Ministry. He also showed his followers leniency, even though they had not sought to help him after his downfall, realising he could not afford to mistreat them until returning to full strength. His first downfall was brought about by his greatest flaw: disregarding that which he could not understand. He did not realise that trying to cast a Killing Curse on a victim after killing a protector who had voluntarily sacrificed themselves would result in the curse rebounding off due to the magic of love. Voldemort\\'s talents for sowing discord and mistrust showed during the Second War, as did his violent temper. As he neared the last days of his life, he made error after error, alienating his followers with a grisly display of mass murder in the aftermath of the Gringotts robbery, tipping Harry off to the location of the last unknown Horcrux due to a compulsive mental check of their location accompanied by fear, which he should have known would make the thoughts readable on his and Harry\\'s soul fragment connection, and neglecting to notice the signs of Harry\\'s closeness to defeating him, Snape\\'s duplicity and Dumbledore\\'s last plan. Deep under his terrifying demeanour, Voldemort was capable of fear whenever he didn\\'t feel that things were completely in his control. On some occasions, such as when he tried to murder Harry while he was a defenceless baby, Voldemort displayed cowardice. He was also furious, yet terrified, when he found out that Helga Hufflepuff\\'s Cup was stolen. Voldemort was also more afraid than Harry was when their wands underwent Priori Incantatem, although he refused assistance from his followers due to his desire to kill Harry unaided. Nevertheless Voldemort was capable of suppressing and concealing his fears and confronting the things that threatened him. When he entered Morfin Gaunt\\'s home as a teenager and confronted his deranged uncle, even Harry could not help but admire Riddle\\'s complete lack of fear when witnessing the event in Dumbledore\\'s Pensieve. Gaunt was drunk, unstable and showed murderous inhumanity whilst wielding a knife in teenage Riddle\\'s face, all of which nonplussed him. Voldemort was even bold enough to engage Albus Dumbledore in a duel, despite Dumbledore being the only wizard Voldemort was ever said to have feared. Voldemort was also a liar and a hypocrite, even when he was a child. He was sadistic to other children in the orphanage where he grew up and opened the Chamber of Secrets while at Hogwarts, resulting in the death of a fellow student. When confronted by Dumbledore on both occasions he denied any involvement. He also lied to Slughorn about his reasons for wanting to gain knowledge on Horcruxes. A further example of this is how Voldemort deemed himself a \"Merciful Lord\" with respect for his enemies, when in fact he considered everyone he had killed to be \"worthless (as he held no regard for them) and nameless\" (he had killed so many that they became vague figures and not people with names to him) and used the words \"The more the better\" regarding how many people died fighting his army. Voldemort also announced to Hogwarts after Harry\\'s supposed demise that he had died whilst trying to run away for fear of his own life, despite knowing full well that Harry had willingly walked to what he believed was his death in the hopes of saving his friends. However, Voldemort did have moments in his life where he was willing to keep his word: after his discussion on Horcruxes with Professor Slughorn he promised not to tell anyone about the subject (though this was mainly for Voldemort\\'s own safety) and gave Hogwarts a chance to turn Harry Potter over to him and leave the school untouched (however this was only keeping with his \"Merciful Lord\" façade). He also denied his blood purity having been a half-blood himself. Despite the fact that he usually maintained a calm, reserved and sophisticated persona, Lord Voldemort was capable of phenomenally explosive and violent fits of rage. His rage would often get the better of him, as shown when he duelled Harry Potter in Little Hangleton, casting curses violently and screaming with fury whilst attacking Harry. He also roared with anger whilst duelling Dumbledore. When he experiences these mood swings, he would instinctively cast Killing Curses at whomever he saw first. The most famous display of fury was when he discovered that Gringotts Bank had been infiltrated, specifically his vault, and he murdered every survivor of the incident out of wrath — this further supports the fact that Voldemort was tremendously afraid of death. Voldemort was shown to be highly intelligent and charismatic, able to inspire many powerful and influential wizards to follow him as his loyal Death Eaters. He could not care less what happened to anyone else, as long as he got what he wanted or avoided discovery for his crimes, shown as how he framed Hagrid, his uncle Morfin, and the house elf Hokey for murders he had committed himself. He was never concerned with the consequences of his actions, only if they either benefited him or got him into trouble with the law. A prime example of how selfish Voldemort was, is how he killed Severus Snape, arguably the man who had (as far as he knew) served him more faithfully and helpfully than anyone, simply to unlock the full power of the Elder Wand. However, despite Voldemort\\'s general malicious ways he had proven that he was capable of acknowledging the desires of others, but only if those desires did not interfere with his ambitions and were presented by someone whom he deemed a worthy servant. The only time this was ever really seen was when he agreed to Severus Snape\\'s plea for Lily Evans\\' life. Although he did not agree to spare Lily unconditionally, he said he would offer her the chance to live if she did not attempt to stop him from murdering her son. Uncharacteristically, Voldemort followed through on his promise to Snape and gave Lily several chances to step aside. Doing this was what caused Lily\\'s death to be a willing sacrifice which is what protected Harry from Voldemort in the first place. One odd incident in Voldemort\\'s life, discovered by Harry through an inadvertent mind-reading, occurred on the night he murdered Lily and James. As he walked down a Godric\\'s Hollow lane on his way to their house, on his way to kill the infant Harry Potter, in a most unusual act of mercy, he decided to spare the life of a Muggle child who had complimented the impressiveness of his \"Hallowe\\'en costume\", not realising that Voldemort was not in costume, but a black-robed wizard with a pale, snakelike face. Killing him was an act Voldemort had deemed \"unnecessary\". Voldemort\\'s reasoning for this was not made clear, though it can be surmised that Voldemort had chosen not to use magic until he had arrived at the Potter\\'s house in case his presence was detected by any spies. Another possibility is that Voldemort simply thought the child was not worth his time or effort. He also seemed to have respected, and sometimes even admired, bravery and skill, even when displayed by some of his enemies. After his return in 1995, he remarked to Harry that Harry\\'s father had died \"straight-backed and proud\". Previously, at the end of Harry\\'s first year at Hogwarts, he had referred to the Potters as \"brave\" and said that James Potter I \"put up a courageous fight\". During the Battle of Hogwarts, he appreciated Neville Longbottom\\'s \"spirit and bravery\" and wanted him to become a Death Eater, though this was also partially due to Neville being a pureblood. Typical for a Slytherin and unlike his blood traitor mother, especially as the Heir of Salazar Slytherin, Voldemort greatly believed in blood purity. In fact, his beliefs were far more extreme than an average pure-blood supremacist. This may actually reflect on his father\\'s Social-Darwinist view on the class system. At the age of 16, Voldemort released Salazar Slytherin\\'s Basilisk in the Chamber of Secrets in order to purge the school of Mudbloods, thus showing his murderous hatred towards them, and kept a diary Horcrux to continue his actions, putting at risk a precious piece of his soul for his ideals. However, he was too much of a coward to give his life for his \"cause\". Voldemort\\'s obsession with blood purity also bred a strong disgust and hatred for the Muggle world. There are several indications — such as the statue Voldemort erected in the Ministry of Magic depicting Muggles being crushed — that Voldemort planned to manipulate and take over the Muggle government of Britain had he been successful. In addition, Voldemort, shortly after his return to physical form, told Harry about his Muggle family, only later to rebuke their memory and herald the return of his \"true family\". In his later life, Voldemort claimed that Muggle-borns were actually Muggles who stole magic from real wizards and witches, rather than actually inheriting it rightfully, and so deserved to be severely punished for it. Whether he knowingly made this theory up or truly believed it (or if he was the first proponent of it) is unknown. He ruthlessly murdered Charity Burbage for supporting Muggle-borns. Despite his racist beliefs, however, he allowed the werewolf Fenrir Greyback to join his cause, though did not consider him an official Death Eater. It is also interesting to note that he was willing to allow Lily Potter to join him, despite the fact that she was Muggle-born. This showed that if the wizard or witch was exceptionally talented, Voldemort was capable of suppressing his hatred towards Muggle-borns and half-bloods, as long as they were willing to serve him. Despite his hatred towards non-pure-bloods, Voldemort himself was a half-blood. Under his rule for a year, he allowed half-bloods to continue to attend Hogwarts, albeit with less respect. Voldemort was ashamed of his Muggle-sided parentage so much that he denied it, left misleading hints that he was a pure-blood and proudly presented his ancestry from Salazar Slytherin. However, Bartemius Crouch Jr appeared to be aware that Voldemort was a half-blood, telling Harry that he and Voldemort both had very disappointing fathers (though more likely that Voldemort simply relayed the disappointing father part, ignoring his blood status). Voldemort\\'s origins were extremely humble, even by Muggle standards. He grew up in an orphanage. His parents were the daughter of the Gaunts, the last decrepit, incest-ridden branch of the Slytherin family, and the son of a smug, haughty, rich Muggle family, who abandoned him. These humble origins made him an unlikely lightning rod for the wizarding aristocracy\\'s pure-blood supremacist values, but due to his power, ability to trace lineage directly to Salazar Slytherin, and willingness to give their cause a platform and an apparently sympathetic ally, he gained their support, and, in time, put them into a state of impressed terror that rendered their support unwavering. Voldemort found it useful to maintain a system of followers drawn from the Slytherin-centric Wizarding aristocracy, disaffected paupers with long-gone noble origins, as well as criminal elements, and in their company spoke like one of them, lecturing on themes of blood purity, Muggle inferiority, and the proper order of society. On one occasion, he even tortured and murdered a witch considered to be a blood traitor, Charity Burbage, for their pleasure. But Voldemort did not truly work for their cause, only allowing them to set up a pure-blood supremacist regime at the Ministry of Magic for his own reasons: to control the government, to compensate them for their service and to ensure their continued loyalty. Voldemort\\'s preoccupations were increasing his own dominion and stamping out opposition: the wizarding aristocracy\\'s concerns were of no real interest to him. The alliance between Voldemort and the Death Eaters was a natural result of Voldemort\\'s ancestry, of having been raised in Slytherin house, and of promises to help them achieve their ends, but there should be no mistake — Voldemort was merely using them. Despite claiming his actions were for the \"noble work\" of purifying the wizarding race, there is evidence that Voldemort treated this with lesser importance than his preoccupations with immortality and domination. During his time studying at Hogwarts, while he used Slytherin\\'s Basilisk to attack Muggle-born students, ultimately using the Basilisk to murder Myrtle, he was too cowardly to take credit for the crimes at the time, as doing so would result in getting him into trouble with the legal authorities of the magical community. He framed Rubeus Hagrid to both get away with his actions, and to keep Hogwarts from closing down, both in his interests at the time. Knowing it wouldn\\'t be safe to open the Chamber of Secrets again, while he was still at school, he decided to create his Horcrux diary, with the intention of eventually repeating his actions through someone else. It was only after creating his identity of Lord Voldemort, that he began to openly acknowledge himself as the Heir of Slytherin, long after most people would have been able to link him to being both Tom Riddle and the one responsible for opening the Chamber of Secrets the first time round. This shows that while he does not full-heartedly support the pure-blood supremacy ideology (if only using it to enter the elite social circles), he does indeed hold Muggles and Muggle-borns with contempt for their alleged inferiority. He was more concerned about eliminating threats to his planned eternal domination of the world than ensuring pure-blood supremacy: as demonstrated by his efforts to destroy Albus Dumbledore, Harry Potter, the Order of the Phoenix and any other opposition to his rule. According to Dumbledore, Voldemort also had a tendency to break school rules at Hogwarts, a trait that Salazar Slytherin treasured. He would pass this trait, along with Parseltongue to Harry Potter when he accidentally transferred a part of his powers to the boy. Voldemort was also extremely possessive, even toward objects that weren\\'t of any use to him, such as when he discovered the twin cores of his and Harry\\'s wands could not kill each other, so he asked for Lucius Malfoy\\'s wand, but refused to give Lucius his old one, which also complements how egotistical Voldemort was. He also had a tendency to hoard trophies or other oddities from his childhood and transformed them into Horcruxes.'"
      ]
     },
     "execution_count": 43,
     "metadata": {},
     "output_type": "execute_result"
    }
   ],
   "source": [
    "data['text'][0]"
   ]
  },
  {
   "cell_type": "code",
   "execution_count": 44,
   "metadata": {
    "collapsed": false
   },
   "outputs": [
    {
     "name": "stdout",
     "output_type": "stream",
     "text": [
      "                                   name\n",
      "house                                  \n",
      "Gryffindor count                     42\n",
      "           unique                    42\n",
      "           top           Lily J. Potter\n",
      "           freq                       1\n",
      "Hufflepuff count                     11\n",
      "           unique                    11\n",
      "           top           Cedric Diggory\n",
      "           freq                       1\n",
      "Ravenclaw  count                     15\n",
      "           unique                    15\n",
      "           top        Anthony Goldstein\n",
      "           freq                       1\n",
      "Slytherin  count                     27\n",
      "           unique                    27\n",
      "           top     Avery (Marauder-era)\n",
      "           freq                       1\n"
     ]
    }
   ],
   "source": [
    "print(data[['name', 'house']].groupby('house').describe())"
   ]
  },
  {
   "cell_type": "markdown",
   "metadata": {},
   "source": [
    "Ага, классы несбалансированы, тогда возьмём классификатор с class probability (напр. байес).\n",
    "\n",
    "И надо посчитать эту probability"
   ]
  },
  {
   "cell_type": "code",
   "execution_count": 59,
   "metadata": {
    "collapsed": false
   },
   "outputs": [
    {
     "data": {
      "text/plain": [
       "[0.437, 0.113, 0.155, 0.296]"
      ]
     },
     "execution_count": 59,
     "metadata": {},
     "output_type": "execute_result"
    }
   ],
   "source": [
    "houses = sorted(set(data['house']))\n",
    "probs = []\n",
    "\n",
    "for h in houses:\n",
    "    pr = len(data.loc[data['house']==h])/len(data)\n",
    "    probs.append(round(pr, 3))\n",
    "\n",
    "probs"
   ]
  },
  {
   "cell_type": "markdown",
   "metadata": {},
   "source": [
    "Теперь надо искать фичи.\n",
    "\n",
    "Курс на сейчас: искать сущ/прил после X was a(n), сделать матрицу, обучить байеса"
   ]
  },
  {
   "cell_type": "code",
   "execution_count": 46,
   "metadata": {
    "collapsed": true
   },
   "outputs": [],
   "source": [
    "# делим на трэйн-тест, дальше только с трэйн\n",
    "data, test = train_test_split(data)"
   ]
  },
  {
   "cell_type": "code",
   "execution_count": 48,
   "metadata": {
    "collapsed": false
   },
   "outputs": [
    {
     "name": "stdout",
     "output_type": "stream",
     "text": [
      "start!\n"
     ]
    },
    {
     "data": {
      "text/plain": [
       "[['outgoing, talkative, cheerful, and friendly.',\n",
       "  'also among the first to ',\n",
       "  'the Heir of Slytherin ',\n",
       "  'a Parselmouth'],\n",
       " ['enthusiastic, bubbly, and easily able ',\n",
       "  'eager and would often want ',\n",
       "  'unhappy ',\n",
       "  'rejected by Remus Lupin',\n",
       "  'not good at household spells ',\n",
       "  'also notoriously clumsy, smashing a ',\n",
       "  'not only an excellent witch, ',\n",
       "  'brave, dependable and selfless, having '],\n",
       " ['forced to repeat his final ']]"
      ]
     },
     "execution_count": 48,
     "metadata": {},
     "output_type": "execute_result"
    }
   ],
   "source": [
    "chars = []\n",
    "# регулярка для поиска характеристик:\n",
    "#                             -обороты        длинные перечисления до конца предл  характеристики\n",
    "charfinder = re.compile(' was(?:, [\\\\w ]+,)? ((?:(?:(?:\\\\w+, )+and [\\\\w\\-]+\\.)|(?:\"?\\\\w+\"?,? ?){,5}))')\n",
    "# выражения типа in his idealistic nature\n",
    "naturefinder = re.compile(' (h(?:is|er) (?:\\\\w+,? ?){,5} nature)')\n",
    "print('start!')\n",
    "for txt in data['text']:\n",
    "    char = re.findall(charfinder, txt)\n",
    "    nature = re.findall(naturefinder, txt)\n",
    "    chars.append(char+nature)\n",
    "\n",
    "chars[:3]"
   ]
  },
  {
   "cell_type": "markdown",
   "metadata": {},
   "source": [
    "Нуу нормально.\n",
    "\n",
    "Теперь можно убрать то, что мы знаем, что интенсификаторы и стоп-слова"
   ]
  },
  {
   "cell_type": "code",
   "execution_count": 75,
   "metadata": {
    "collapsed": false
   },
   "outputs": [
    {
     "data": {
      "text/plain": [
       "7     [considered reckless people,, fountain fair, r...\n",
       "8     [emotional fellow, seemed, taken chamber, show...\n",
       "9     [described, tolerant accepting, forward thinki...\n",
       "10               [prejudiced muggles, muggle, arrogant]\n",
       "11    [convinced ernie, animagus, belief, flustered ...\n",
       "dtype: object"
      ]
     },
     "execution_count": 75,
     "metadata": {},
     "output_type": "execute_result"
    }
   ],
   "source": [
    "intense = 'extremely highly very more phenomenally tremendously exceptionally especially presumably also \\\n",
    "somewhat mostly easily one many people often only able someone'.split()\n",
    "\n",
    "stop = set(stopwords.words('english'))\n",
    "stop = stop.difference(set(['no', 'not']))\n",
    "\n",
    "# stops = re.compile('(?:\\\\W|^)(?:({}))\\\\W'.format(')|('.join(list(stop)+intense)))\n",
    "stops = list(stop)+intense\n",
    "\n",
    "chars = pd.Series(chars)\n",
    "clean_chars = chars.map(lambda x: list(map(lambda y: ' '.join([i for i in y.lower().split() if i.strip() not in stops]), x)))\n",
    "clean_chars[7:12]"
   ]
  },
  {
   "cell_type": "markdown",
   "metadata": {
    "collapsed": false
   },
   "source": [
    "Ну почему бы и нет. Можно поробовать так. Теперь сплит на всё что здесь есть, в словарь векторайзера, вот это всё"
   ]
  },
  {
   "cell_type": "code",
   "execution_count": 76,
   "metadata": {
    "collapsed": false
   },
   "outputs": [
    {
     "name": "stdout",
     "output_type": "stream",
     "text": [
      "2882\n",
      "984\n"
     ]
    }
   ],
   "source": [
    "charwds = []\n",
    "for ch in chars:\n",
    "    charwds += list(map(lambda x: x.strip(string.punctuation), ' '.join(ch).split()))\n",
    "\n",
    "print(len(charwds))\n",
    "charwds = list(set(charwds))\n",
    "print(len(charwds))"
   ]
  },
  {
   "cell_type": "code",
   "execution_count": 77,
   "metadata": {
    "collapsed": false
   },
   "outputs": [
    {
     "name": "stdout",
     "output_type": "stream",
     "text": [
      "             precision    recall  f1-score   support\n",
      "\n",
      " Gryffindor       0.61      1.00      0.76        11\n",
      " Hufflepuff       0.00      0.00      0.00         3\n",
      "  Ravenclaw       0.00      0.00      0.00         4\n",
      "  Slytherin       0.83      0.83      0.83         6\n",
      "\n",
      "avg / total       0.49      0.67      0.56        24\n",
      "\n"
     ]
    },
    {
     "name": "stderr",
     "output_type": "stream",
     "text": [
      "/Users/Basilis/anaconda3/lib/python3.5/site-packages/sklearn/metrics/classification.py:1113: UndefinedMetricWarning: Precision and F-score are ill-defined and being set to 0.0 in labels with no predicted samples.\n",
      "  'precision', 'predicted', average, warn_for)\n"
     ]
    }
   ],
   "source": [
    "# простая векторизация всего текста\n",
    "cv = CountVectorizer()\n",
    "clf = MultinomialNB()\n",
    "X_train, y_train = cv.fit_transform(data['text']), data['house']\n",
    "clf.fit(X_train, y_train)\n",
    "X_test, y_test = cv.transform(test['text']), test['house']\n",
    "praed = clf.predict(X_test)\n",
    "print(classification_report(y_test, praed))"
   ]
  },
  {
   "cell_type": "code",
   "execution_count": 78,
   "metadata": {
    "collapsed": false
   },
   "outputs": [
    {
     "name": "stdout",
     "output_type": "stream",
     "text": [
      "             precision    recall  f1-score   support\n",
      "\n",
      " Gryffindor       0.61      1.00      0.76        11\n",
      " Hufflepuff       0.00      0.00      0.00         3\n",
      "  Ravenclaw       0.00      0.00      0.00         4\n",
      "  Slytherin       0.83      0.83      0.83         6\n",
      "\n",
      "avg / total       0.49      0.67      0.56        24\n",
      "\n"
     ]
    },
    {
     "name": "stderr",
     "output_type": "stream",
     "text": [
      "/Users/Basilis/anaconda3/lib/python3.5/site-packages/sklearn/metrics/classification.py:1113: UndefinedMetricWarning: Precision and F-score are ill-defined and being set to 0.0 in labels with no predicted samples.\n",
      "  'precision', 'predicted', average, warn_for)\n"
     ]
    }
   ],
   "source": [
    "# векторизация всего текста + вес классов\n",
    "cv = CountVectorizer()\n",
    "clf = MultinomialNB(class_prior=probs)\n",
    "X_train, y_train = cv.fit_transform(data['text']), data['house']\n",
    "clf.fit(X_train, y_train)\n",
    "X_test, y_test = cv.transform(test['text']), test['house']\n",
    "praed = clf.predict(X_test)\n",
    "print(classification_report(y_test, praed))"
   ]
  },
  {
   "cell_type": "code",
   "execution_count": 82,
   "metadata": {
    "collapsed": false
   },
   "outputs": [
    {
     "name": "stdout",
     "output_type": "stream",
     "text": [
      "             precision    recall  f1-score   support\n",
      "\n",
      " Gryffindor       0.50      0.64      0.56        11\n",
      " Hufflepuff       0.00      0.00      0.00         3\n",
      "  Ravenclaw       0.00      0.00      0.00         4\n",
      "  Slytherin       0.40      0.67      0.50         6\n",
      "\n",
      "avg / total       0.33      0.46      0.38        24\n",
      "\n",
      "[[7 0 0 4]\n",
      " [1 0 0 2]\n",
      " [4 0 0 0]\n",
      " [2 0 0 4]]\n"
     ]
    },
    {
     "name": "stderr",
     "output_type": "stream",
     "text": [
      "/Users/Basilis/anaconda3/lib/python3.5/site-packages/sklearn/metrics/classification.py:1113: UndefinedMetricWarning: Precision and F-score are ill-defined and being set to 0.0 in labels with no predicted samples.\n",
      "  'precision', 'predicted', average, warn_for)\n"
     ]
    }
   ],
   "source": [
    "# векторизация по избранным словам + вес\n",
    "cv = CountVectorizer(vocabulary=charwds)\n",
    "clf = MultinomialNB(class_prior=probs)\n",
    "X_train, y_train = cv.fit_transform(data['text']), data['house']\n",
    "clf.fit(X_train, y_train)\n",
    "X_test, y_test = cv.transform(test['text']), test['house']\n",
    "praed = clf.predict(X_test)\n",
    "print(classification_report(y_test, praed))\n",
    "print(confusion_matrix(y_test, praed))"
   ]
  },
  {
   "cell_type": "markdown",
   "metadata": {},
   "source": [
    "Не очень, конечно (и class_prior ничего не делает). Обидно."
   ]
  },
  {
   "cell_type": "code",
   "execution_count": 81,
   "metadata": {
    "collapsed": false
   },
   "outputs": [
    {
     "name": "stdout",
     "output_type": "stream",
     "text": [
      "Best param set: {'n_estimators': 70}\n",
      "             precision    recall  f1-score   support\n",
      "\n",
      " Gryffindor       0.50      1.00      0.67        11\n",
      " Hufflepuff       0.00      0.00      0.00         3\n",
      "  Ravenclaw       0.00      0.00      0.00         4\n",
      "  Slytherin       1.00      0.33      0.50         6\n",
      "\n",
      "avg / total       0.48      0.54      0.43        24\n",
      "\n",
      "[[11  0  0  0]\n",
      " [ 3  0  0  0]\n",
      " [ 4  0  0  0]\n",
      " [ 4  0  0  2]]\n"
     ]
    },
    {
     "name": "stderr",
     "output_type": "stream",
     "text": [
      "/Users/Basilis/anaconda3/lib/python3.5/site-packages/sklearn/metrics/classification.py:1113: UndefinedMetricWarning: Precision and F-score are ill-defined and being set to 0.0 in labels with no predicted samples.\n",
      "  'precision', 'predicted', average, warn_for)\n"
     ]
    }
   ],
   "source": [
    "cv = CountVectorizer(vocabulary=charwds)\n",
    "forest = RandomForestClassifier(random_state=34)\n",
    "params = {'n_estimators': range(10, 101, 10)}\n",
    "clf = GridSearchCV(forest, params)\n",
    "X_train, y_train = cv.fit_transform(data['text']), data['house']\n",
    "clf.fit(X_train, y_train)\n",
    "X_test, y_test = cv.transform(test['text']), test['house']\n",
    "print('Best param set: {}'.format(clf.best_params_))\n",
    "praed = clf.predict(X_test)\n",
    "print(classification_report(y_test, praed))\n",
    "print(confusion_matrix(y_test, praed))"
   ]
  },
  {
   "cell_type": "code",
   "execution_count": 83,
   "metadata": {
    "collapsed": false
   },
   "outputs": [
    {
     "name": "stdout",
     "output_type": "stream",
     "text": [
      "Best param set: {'max_depth': 10}\n",
      "             precision    recall  f1-score   support\n",
      "\n",
      " Gryffindor       0.47      0.73      0.57        11\n",
      " Hufflepuff       0.00      0.00      0.00         3\n",
      "  Ravenclaw       0.50      0.50      0.50         4\n",
      "  Slytherin       1.00      0.17      0.29         6\n",
      "\n",
      "avg / total       0.55      0.46      0.42        24\n",
      "\n",
      "[[8 1 2 0]\n",
      " [3 0 0 0]\n",
      " [2 0 2 0]\n",
      " [4 1 0 1]]\n"
     ]
    }
   ],
   "source": [
    "cv = CountVectorizer(vocabulary=charwds)\n",
    "forest = DecisionTreeClassifier(random_state=34)\n",
    "params = {'max_depth': range(10, 101, 10)}\n",
    "clf = GridSearchCV(forest, params)\n",
    "X_train, y_train = cv.fit_transform(data['text']), data['house']\n",
    "clf.fit(X_train, y_train)\n",
    "X_test, y_test = cv.transform(test['text']), test['house']\n",
    "print('Best param set: {}'.format(clf.best_params_))\n",
    "praed = clf.predict(X_test)\n",
    "print(classification_report(y_test, praed))\n",
    "print(confusion_matrix(y_test, praed))"
   ]
  },
  {
   "cell_type": "markdown",
   "metadata": {},
   "source": [
    "В целом от леса можно добиться более высокой ф-меры, и гриффиндорцев он определяет отлично (правда, и всех остальных тоже определяет как гриффиндорцев). Дерево тоже где-то рядом, и оно даже справляется с другими факультетами, ура! Но это всё равно меньше, чем даёт векторизация всего текста =/"
   ]
  },
  {
   "cell_type": "code",
   "execution_count": 84,
   "metadata": {
    "collapsed": true
   },
   "outputs": [],
   "source": [
    "import gensim"
   ]
  },
  {
   "cell_type": "code",
   "execution_count": null,
   "metadata": {
    "collapsed": true
   },
   "outputs": [],
   "source": [
    "quasif = data['text']"
   ]
  },
  {
   "cell_type": "code",
   "execution_count": 88,
   "metadata": {
    "collapsed": true
   },
   "outputs": [],
   "source": [
    "wvec = gensim.models.word2vec.LineSentence(data['text'])"
   ]
  },
  {
   "cell_type": "code",
   "execution_count": 87,
   "metadata": {
    "collapsed": true
   },
   "outputs": [],
   "source": [
    "model = gensim.models.Word2Vec(data, size=500, window=10, min_count=2, sg=0)"
   ]
  },
  {
   "cell_type": "code",
   "execution_count": null,
   "metadata": {
    "collapsed": true
   },
   "outputs": [],
   "source": []
  }
 ],
 "metadata": {
  "anaconda-cloud": {},
  "kernelspec": {
   "display_name": "Python [conda root]",
   "language": "python",
   "name": "conda-root-py"
  },
  "language_info": {
   "codemirror_mode": {
    "name": "ipython",
    "version": 3
   },
   "file_extension": ".py",
   "mimetype": "text/x-python",
   "name": "python",
   "nbconvert_exporter": "python",
   "pygments_lexer": "ipython3",
   "version": "3.5.2"
  }
 },
 "nbformat": 4,
 "nbformat_minor": 1
}
