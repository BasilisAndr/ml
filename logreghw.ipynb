{
 "cells": [
  {
   "cell_type": "code",
   "execution_count": 50,
   "metadata": {
    "collapsed": false
   },
   "outputs": [],
   "source": [
    "import os\n",
    "import re\n",
    "import sys\n",
    "import pandas as pd\n",
    "import seaborn as sns\n",
    "import matplotlib.pyplot as plt\n",
    "from nltk.stem import WordNetLemmatizer\n",
    "from sklearn.model_selection import train_test_split, GridSearchCV\n",
    "from sklearn.feature_extraction.text import CountVectorizer, TfidfTransformer\n",
    "from sklearn.ensemble import RandomForestClassifier\n",
    "from sklearn.naive_bayes import MultinomialNB\n",
    "from sklearn.linear_model import LogisticRegression\n",
    "from sklearn.metrics import classification_report, confusion_matrix\n",
    "\n",
    "%matplotlib inline"
   ]
  },
  {
   "cell_type": "code",
   "execution_count": 17,
   "metadata": {
    "collapsed": false
   },
   "outputs": [],
   "source": [
    "data = []\n",
    "root = './blogs'\n",
    "for fil in os.listdir(root):\n",
    "    try:\n",
    "        meta = fil.split('.')[1:3]\n",
    "        content = open(os.path.join(root, fil), \"r\", encoding='utf-8', errors='ignore').read()\n",
    "        data.append(meta+[content])\n",
    "    except:\n",
    "        print(os.path.join(root, fil))"
   ]
  },
  {
   "cell_type": "code",
   "execution_count": 18,
   "metadata": {
    "collapsed": false
   },
   "outputs": [
    {
     "data": {
      "text/html": [
       "<div>\n",
       "<table border=\"1\" class=\"dataframe\">\n",
       "  <thead>\n",
       "    <tr style=\"text-align: right;\">\n",
       "      <th></th>\n",
       "      <th>gender</th>\n",
       "      <th>age</th>\n",
       "      <th>posts</th>\n",
       "    </tr>\n",
       "  </thead>\n",
       "  <tbody>\n",
       "    <tr>\n",
       "      <th>0</th>\n",
       "      <td>female</td>\n",
       "      <td>37</td>\n",
       "      <td>&lt;Blog&gt;\\n\\n&lt;date&gt;31,May,2004&lt;/date&gt;\\n&lt;post&gt;\\n\\n...</td>\n",
       "    </tr>\n",
       "    <tr>\n",
       "      <th>1</th>\n",
       "      <td>female</td>\n",
       "      <td>17</td>\n",
       "      <td>&lt;Blog&gt;\\n\\n&lt;date&gt;23,November,2002&lt;/date&gt;\\n&lt;post...</td>\n",
       "    </tr>\n",
       "    <tr>\n",
       "      <th>2</th>\n",
       "      <td>male</td>\n",
       "      <td>23</td>\n",
       "      <td>&lt;Blog&gt;\\n\\n&lt;date&gt;19,June,2004&lt;/date&gt;\\n&lt;post&gt;\\n\\...</td>\n",
       "    </tr>\n",
       "    <tr>\n",
       "      <th>3</th>\n",
       "      <td>female</td>\n",
       "      <td>25</td>\n",
       "      <td>&lt;Blog&gt;\\n\\n\\n\\n&lt;date&gt;31,May,2004&lt;/date&gt;\\n&lt;post&gt;...</td>\n",
       "    </tr>\n",
       "    <tr>\n",
       "      <th>4</th>\n",
       "      <td>male</td>\n",
       "      <td>25</td>\n",
       "      <td>&lt;Blog&gt;\\n\\n&lt;date&gt;05,July,2003&lt;/date&gt;\\n&lt;post&gt;\\n\\...</td>\n",
       "    </tr>\n",
       "  </tbody>\n",
       "</table>\n",
       "</div>"
      ],
      "text/plain": [
       "   gender age                                              posts\n",
       "0  female  37  <Blog>\\n\\n<date>31,May,2004</date>\\n<post>\\n\\n...\n",
       "1  female  17  <Blog>\\n\\n<date>23,November,2002</date>\\n<post...\n",
       "2    male  23  <Blog>\\n\\n<date>19,June,2004</date>\\n<post>\\n\\...\n",
       "3  female  25  <Blog>\\n\\n\\n\\n<date>31,May,2004</date>\\n<post>...\n",
       "4    male  25  <Blog>\\n\\n<date>05,July,2003</date>\\n<post>\\n\\..."
      ]
     },
     "execution_count": 18,
     "metadata": {},
     "output_type": "execute_result"
    }
   ],
   "source": [
    "data = pd.DataFrame(data, columns=['gender', 'age', 'posts'])\n",
    "data.head()"
   ]
  },
  {
   "cell_type": "code",
   "execution_count": 19,
   "metadata": {
    "collapsed": false
   },
   "outputs": [
    {
     "data": {
      "text/plain": [
       "'<Blog>\\n\\n<date>31,May,2004</date>\\n<post>\\n'"
      ]
     },
     "execution_count": 19,
     "metadata": {},
     "output_type": "execute_result"
    }
   ],
   "source": [
    "data['posts'][0][:40]"
   ]
  },
  {
   "cell_type": "code",
   "execution_count": 20,
   "metadata": {
    "collapsed": false
   },
   "outputs": [],
   "source": [
    "# нормализовать\n",
    "# я не имею НИ МАЛЕЙШЕГО ПОНЯТИЯ что значит \"обратить внимание на тэги\" и просто удаляю их к чертям\n",
    "# не убираю urlLink потому что количество ссылок может играть роль\n",
    "data['normalized'] = data['posts'].map(lambda x: re.sub('</?[(?:Blog)|(?:post)]+>|<date>[^<]+</date>', '', x))\n",
    "data['normalized'] = data['normalized'].map(lambda x: re.sub('\\s{2,}', ' ', x).strip())"
   ]
  },
  {
   "cell_type": "code",
   "execution_count": 21,
   "metadata": {
    "collapsed": false
   },
   "outputs": [
    {
     "data": {
      "text/html": [
       "<div>\n",
       "<table border=\"1\" class=\"dataframe\">\n",
       "  <thead>\n",
       "    <tr style=\"text-align: right;\">\n",
       "      <th></th>\n",
       "      <th>gender</th>\n",
       "      <th>age</th>\n",
       "      <th>posts</th>\n",
       "      <th>normalized</th>\n",
       "    </tr>\n",
       "  </thead>\n",
       "  <tbody>\n",
       "    <tr>\n",
       "      <th>0</th>\n",
       "      <td>female</td>\n",
       "      <td>37</td>\n",
       "      <td>&lt;Blog&gt;\\n\\n&lt;date&gt;31,May,2004&lt;/date&gt;\\n&lt;post&gt;\\n\\n...</td>\n",
       "      <td>Well, everyone got up and going this morning. ...</td>\n",
       "    </tr>\n",
       "    <tr>\n",
       "      <th>1</th>\n",
       "      <td>female</td>\n",
       "      <td>17</td>\n",
       "      <td>&lt;Blog&gt;\\n\\n&lt;date&gt;23,November,2002&lt;/date&gt;\\n&lt;post...</td>\n",
       "      <td>Yeah, sorry for not writing for a whole there,...</td>\n",
       "    </tr>\n",
       "    <tr>\n",
       "      <th>2</th>\n",
       "      <td>male</td>\n",
       "      <td>23</td>\n",
       "      <td>&lt;Blog&gt;\\n\\n&lt;date&gt;19,June,2004&lt;/date&gt;\\n&lt;post&gt;\\n\\...</td>\n",
       "      <td>cupid,please hear my cry, cupid, please let yo...</td>\n",
       "    </tr>\n",
       "    <tr>\n",
       "      <th>3</th>\n",
       "      <td>female</td>\n",
       "      <td>25</td>\n",
       "      <td>&lt;Blog&gt;\\n\\n\\n\\n&lt;date&gt;31,May,2004&lt;/date&gt;\\n&lt;post&gt;...</td>\n",
       "      <td>and did i mention that i no longer have to dea...</td>\n",
       "    </tr>\n",
       "    <tr>\n",
       "      <th>4</th>\n",
       "      <td>male</td>\n",
       "      <td>25</td>\n",
       "      <td>&lt;Blog&gt;\\n\\n&lt;date&gt;05,July,2003&lt;/date&gt;\\n&lt;post&gt;\\n\\...</td>\n",
       "      <td>B-Logs: The Business Blogs Paradox urlLink Hin...</td>\n",
       "    </tr>\n",
       "  </tbody>\n",
       "</table>\n",
       "</div>"
      ],
      "text/plain": [
       "   gender age                                              posts  \\\n",
       "0  female  37  <Blog>\\n\\n<date>31,May,2004</date>\\n<post>\\n\\n...   \n",
       "1  female  17  <Blog>\\n\\n<date>23,November,2002</date>\\n<post...   \n",
       "2    male  23  <Blog>\\n\\n<date>19,June,2004</date>\\n<post>\\n\\...   \n",
       "3  female  25  <Blog>\\n\\n\\n\\n<date>31,May,2004</date>\\n<post>...   \n",
       "4    male  25  <Blog>\\n\\n<date>05,July,2003</date>\\n<post>\\n\\...   \n",
       "\n",
       "                                          normalized  \n",
       "0  Well, everyone got up and going this morning. ...  \n",
       "1  Yeah, sorry for not writing for a whole there,...  \n",
       "2  cupid,please hear my cry, cupid, please let yo...  \n",
       "3  and did i mention that i no longer have to dea...  \n",
       "4  B-Logs: The Business Blogs Paradox urlLink Hin...  "
      ]
     },
     "execution_count": 21,
     "metadata": {},
     "output_type": "execute_result"
    }
   ],
   "source": [
    "data.head()"
   ]
  },
  {
   "cell_type": "code",
   "execution_count": 22,
   "metadata": {
    "collapsed": false
   },
   "outputs": [],
   "source": [
    "# векторизовать\n",
    "cv = CountVectorizer(preprocessor=WordNetLemmatizer().lemmatize, stop_words='english', min_df=2, max_df=0.95)\n",
    "cv_matrix = cv.fit_transform(data['normalized'])\n",
    "tfidf_transformer = TfidfTransformer()\n",
    "tfidf = tfidf_transformer.fit_transform(cv_matrix)"
   ]
  },
  {
   "cell_type": "code",
   "execution_count": 23,
   "metadata": {
    "collapsed": true
   },
   "outputs": [],
   "source": [
    "X_train, X_test, y_train, y_test = train_test_split(tfidf, data['gender'])"
   ]
  },
  {
   "cell_type": "markdown",
   "metadata": {},
   "source": [
    "например, построить частотные списки и сравнить их (достаточно ли матрицы терм-документ с ненормализованными вхождениями слов?)"
   ]
  },
  {
   "cell_type": "code",
   "execution_count": 24,
   "metadata": {
    "collapsed": false
   },
   "outputs": [],
   "source": [
    "# НА*&#!@"
   ]
  },
  {
   "cell_type": "code",
   "execution_count": 48,
   "metadata": {
    "collapsed": false
   },
   "outputs": [
    {
     "name": "stdout",
     "output_type": "stream",
     "text": [
      "Tuning RandomForest with GridSearch\n",
      "\n",
      "Parameters are:\n",
      "\tn_estimators\n",
      "\tmax_depth\n",
      "\n",
      "Fitting models...\n",
      "Fitted\n",
      "\n",
      "Best parameters set:\n",
      "\tmax_depth: 7\n",
      "\tn_estimators: 100\n",
      "\n",
      "Predicting test values...\n",
      "Results are:\n",
      "             precision    recall  f1-score   support\n",
      "\n",
      "     female       0.68      0.78      0.73      2386\n",
      "       male       0.75      0.64      0.69      2444\n",
      "\n",
      "avg / total       0.72      0.71      0.71      4830\n",
      "\n",
      "Confusion matrix:\n",
      "[[1872  514]\n",
      " [ 881 1563]]\n",
      "Parameters and results for training set:\n"
     ]
    },
    {
     "data": {
      "image/png": "[encoded data removed]",
      "text/plain": [
       "<matplotlib.figure.Figure at 0x174a90a58>"
      ]
     },
     "metadata": {},
     "output_type": "display_data"
    }
   ],
   "source": [
    "# лес\n",
    "forest = RandomForestClassifier(random_state=6, n_jobs=-1)\n",
    "parameters = {'n_estimators': list(range(10, 101, 10)), 'max_depth': [3, 5, 7]} # list(range(1, 10, 2))\n",
    "print('Tuning RandomForest with GridSearch')\n",
    "print()\n",
    "print('Parameters are:\\n\\t{}'.format('\\n\\t'.join(list(parameters.keys()))))\n",
    "print()\n",
    "sys.stdout.write('Fitting models...')\n",
    "gs = GridSearchCV(forest, parameters)\n",
    "gs = gs.fit(X_train, y_train)\n",
    "sys.stdout.write('Fitted')\n",
    "\n",
    "# здесь про параметры\n",
    "print()\n",
    "print(\"Best parameters set:\")\n",
    "best_parameters = gs.best_estimator_.get_params()\n",
    "for param_name in sorted(parameters.keys()):\n",
    "    print(\"\\t{}: {}\".format(param_name, best_parameters[param_name]))\n",
    "print()\n",
    "print('Predicting test values...')\n",
    "prediction = gs.predict(X_test)\n",
    "print('Results are:')\n",
    "print(classification_report(y_test, prediction))\n",
    "print('Confusion matrix:')\n",
    "print(confusion_matrix(y_test, prediction))\n",
    "print()\n",
    "print('Parameters and results for training set:')\n",
    "fscs = list(map(lambda x: round(x, 3), gs.cv_results_['mean_test_score']))\n",
    "params_order = sorted(parameters.keys())\n",
    "data = []\n",
    "for fsc, params in zip(fscs, gs.cv_results_['params']):\n",
    "    data.append([fsc, params[params_order[0]], params[params_order[1]]])\n",
    "data = pd.DataFrame(data, columns=['mean']+params_order).fillna(\"None\")\n",
    "data = data.pivot('n_estimators', 'max_depth', 'mean')\n",
    "sns.heatmap(data, annot=True, cbar=False);"
   ]
  },
  {
   "cell_type": "code",
   "execution_count": null,
   "metadata": {
    "collapsed": false
   },
   "outputs": [],
   "source": []
  },
  {
   "cell_type": "code",
   "execution_count": null,
   "metadata": {
    "collapsed": true
   },
   "outputs": [],
   "source": []
  },
  {
   "cell_type": "code",
   "execution_count": 52,
   "metadata": {
    "collapsed": false
   },
   "outputs": [
    {
     "name": "stdout",
     "output_type": "stream",
     "text": [
      "Plain Naive Bayes\n",
      "Fitting model...Fitted\n",
      "Predicting test values...\n",
      "Results are:\n",
      "             precision    recall  f1-score   support\n",
      "\n",
      "     female       0.67      0.84      0.75      2386\n",
      "       male       0.80      0.60      0.68      2444\n",
      "\n",
      "avg / total       0.73      0.72      0.71      4830\n",
      "\n",
      "Confusion matrix:\n",
      "[[2012  374]\n",
      " [ 985 1459]]\n"
     ]
    }
   ],
   "source": [
    "# байес\n",
    "# тут не то чтобы много можно было настраивать\n",
    "print('Plain Naive Bayes')\n",
    "bayes = MultinomialNB()\n",
    "# parameters = {}\n",
    "# print('Tuning RandomForest with GridSearch')\n",
    "# print()\n",
    "# print('Parameters are:\\n\\t{}'.format('\\n\\t'.join(list(parameters.keys()))))\n",
    "# print()\n",
    "# print('Fitting models...')\n",
    "# gs = GridSearchCV(bayes, parameters)\n",
    "# gs = gs.fit(X_train, y_train)\n",
    "sys.stdout.write('Fitting model...')\n",
    "bayes = bayes.fit(X_train, y_train)\n",
    "sys.stdout.write('Fitted\\n')\n",
    "# здесь про параметры\n",
    "print('Predicting test values...')\n",
    "# prediction = gs.predict(X_test)\n",
    "prediction = bayes.predict(X_test)\n",
    "print('Results are:')\n",
    "print(classification_report(y_test, prediction))\n",
    "print('Confusion matrix:')\n",
    "print(confusion_matrix(y_test, prediction))"
   ]
  },
  {
   "cell_type": "code",
   "execution_count": 59,
   "metadata": {
    "collapsed": false
   },
   "outputs": [
    {
     "name": "stdout",
     "output_type": "stream",
     "text": [
      "Tuning multinomial LogisticRegression with GridSearch\n",
      "\n",
      "Parameters:\n",
      "\tmulti_class\n",
      "\tsolver\n",
      "\n",
      "Fitting models...done\n",
      "\n",
      "Best parameters set:\n",
      "\tmulti_class: multinomial\n",
      "\tsolver: lbfgs\n",
      "\n",
      "Predicting test values...done\n",
      "\n",
      "Results:\n",
      "             precision    recall  f1-score   support\n",
      "\n",
      "     female       0.82      0.82      0.82      2386\n",
      "       male       0.82      0.82      0.82      2444\n",
      "\n",
      "avg / total       0.82      0.82      0.82      4830\n",
      "\n",
      "Confusion matrix:\n",
      "[[1949  437]\n",
      " [ 434 2010]]\n",
      "\n",
      "Parameters and results:\n"
     ]
    },
    {
     "data": {
      "image/png": "[encoded data removed]",
      "text/plain": [
       "<matplotlib.figure.Figure at 0x17684e198>"
      ]
     },
     "metadata": {},
     "output_type": "display_data"
    }
   ],
   "source": [
    "# логрег\n",
    "# lgrg = LogisticRegression(random_state=4, n_jobs=-1)\n",
    "parameters_lgrg = {'multi_class': ['ovr', 'multinomial'], 'solver': ['lbfgs', 'sag', 'newton-cg']}\n",
    "print('Tuning multinomial LogisticRegression with GridSearch')\n",
    "print()\n",
    "print('Parameters:\\n\\t{}'.format('\\n\\t'.join(list(parameters_lgrg.keys()))))\n",
    "print()\n",
    "sys.stdout.write('Fitting models...')\n",
    "# gs_lgrg = GridSearchCV(lgrg, params)\n",
    "# gs_lgrg = gs_lgrg.fit(X_train, y_train)\n",
    "print('done')\n",
    "\n",
    "# здесь про параметры\n",
    "\n",
    "print()\n",
    "\n",
    "print(\"Best parameters set:\")\n",
    "best_parameters = gs_lgrg.best_estimator_.get_params()\n",
    "for param_name in sorted(parameters_lgrg.keys()):\n",
    "    print(\"\\t{}: {}\".format(param_name, best_parameters[param_name]))\n",
    "print()\n",
    "\n",
    "\n",
    "sys.stdout.write('Predicting test values...')\n",
    "prediction = gs_lgrg.predict(X_test)\n",
    "print('done')\n",
    "print()\n",
    "print('Results:')\n",
    "print(classification_report(y_test, prediction))\n",
    "print('Confusion matrix:')\n",
    "print(confusion_matrix(y_test, prediction))\n",
    "print()\n",
    "\n",
    "\n",
    "# heatmap\n",
    "print('Parameters and results:')\n",
    "fscs = list(map(lambda x: round(x, 3), gs_lgrg.cv_results_['mean_test_score']))\n",
    "params_order = sorted(parameters_lgrg.keys())\n",
    "data = []\n",
    "for fsc, params in zip(fscs, gs_lgrg.cv_results_['params']):\n",
    "    data.append([fsc, params[params_order[0]], params[params_order[1]]])\n",
    "data = pd.DataFrame(data, columns=['mean']+params_order).fillna(\"None\")\n",
    "data = data.pivot('multi_class', 'solver', 'mean')\n",
    "sns.heatmap(data, annot=True, cbar=False);"
   ]
  },
  {
   "cell_type": "markdown",
   "metadata": {},
   "source": [
    "Вообще-то у нас класс бинарный и multinomial не нужен, это просто на посмотреть. Я не знаю, что делает C, но можно попробовать"
   ]
  },
  {
   "cell_type": "code",
   "execution_count": 73,
   "metadata": {
    "collapsed": false
   },
   "outputs": [
    {
     "name": "stdout",
     "output_type": "stream",
     "text": [
      "Tuning binary LogisticRegression with GridSearch\n",
      "\n",
      "Parameters:\n",
      "\tC\n",
      "\n",
      "Fitting models...done\n",
      "\n",
      "Best parameters set:\n",
      "\tC: 2.5\n",
      "\n",
      "Predicting test values...done\n",
      "\n",
      "Results:\n",
      "             precision    recall  f1-score   support\n",
      "\n",
      "     female       0.82      0.82      0.82      2386\n",
      "       male       0.82      0.82      0.82      2444\n",
      "\n",
      "avg / total       0.82      0.82      0.82      4830\n",
      "\n",
      "Confusion matrix:\n",
      "[[1949  437]\n",
      " [ 430 2014]]\n",
      "\n",
      "Parameters and results:\n"
     ]
    },
    {
     "data": {
      "image/png": "[encoded data removed]",
      "text/plain": [
       "<matplotlib.figure.Figure at 0x174ebc7f0>"
      ]
     },
     "metadata": {},
     "output_type": "display_data"
    }
   ],
   "source": [
    "# логрег\n",
    "lgrg0 = LogisticRegression(random_state=4, n_jobs=-1)\n",
    "parameters_lgrg0 = {'C': [0.5, 1.0, 1.5, 2.0, 2.5]}\n",
    "print('Tuning binary LogisticRegression with GridSearch')\n",
    "print()\n",
    "print('Parameters:\\n\\t{}'.format('\\n\\t'.join(list(parameters_lgrg0.keys()))))\n",
    "print()\n",
    "sys.stdout.write('Fitting models...')\n",
    "gs_lgrg0 = GridSearchCV(lgrg0, parameters_lgrg0)\n",
    "gs_lgrg0 = gs_lgrg0.fit(X_train, y_train)\n",
    "print('done')\n",
    "\n",
    "# здесь про параметры\n",
    "\n",
    "print()\n",
    "\n",
    "print(\"Best parameters set:\")\n",
    "best_parameters = gs_lgrg0.best_estimator_.get_params()\n",
    "for param_name in sorted(parameters_lgrg0.keys()):\n",
    "    print(\"\\t{}: {}\".format(param_name, best_parameters[param_name]))\n",
    "print()\n",
    "\n",
    "\n",
    "sys.stdout.write('Predicting test values...')\n",
    "prediction = gs_lgrg0.predict(X_test)\n",
    "print('done')\n",
    "print()\n",
    "print('Results:')\n",
    "print(classification_report(y_test, prediction))\n",
    "print('Confusion matrix:')\n",
    "print(confusion_matrix(y_test, prediction))\n",
    "print()\n",
    "\n",
    "# learning curve\n",
    "print('Parameters and results:')\n",
    "fscs_lgrg0 = list(map(lambda x: round(x, 3), gs_lgrg0.cv_results_['mean_test_score']))\n",
    "sns.pointplot(parameters_lgrg0['C'], fscs_lgrg0);"
   ]
  },
  {
   "cell_type": "code",
   "execution_count": null,
   "metadata": {
    "collapsed": false
   },
   "outputs": [],
   "source": []
  },
  {
   "cell_type": "code",
   "execution_count": null,
   "metadata": {
    "collapsed": false
   },
   "outputs": [],
   "source": []
  },
  {
   "cell_type": "code",
   "execution_count": null,
   "metadata": {
    "collapsed": true
   },
   "outputs": [],
   "source": []
  }
 ],
 "metadata": {
  "anaconda-cloud": {},
  "kernelspec": {
   "display_name": "Python [conda root]",
   "language": "python",
   "name": "conda-root-py"
  },
  "language_info": {
   "codemirror_mode": {
    "name": "ipython",
    "version": 3
   },
   "file_extension": ".py",
   "mimetype": "text/x-python",
   "name": "python",
   "nbconvert_exporter": "python",
   "pygments_lexer": "ipython3",
   "version": "3.5.2"
  }
 },
 "nbformat": 4,
 "nbformat_minor": 1
}
