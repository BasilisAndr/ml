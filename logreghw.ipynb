{
 "cells": [
  {
   "cell_type": "code",
   "execution_count": 14,
   "metadata": {
    "collapsed": false
   },
   "outputs": [],
   "source": [
    "import os\n",
    "import re\n",
    "import pandas as pd\n",
    "from nltk.stem import WordNetLemmatizer\n",
    "from sklearn.model_selection import train_test_split\n",
    "from sklearn.feature_extraction.text import CountVectorizer, TfidfTransformer\n",
    "from sklearn.ensemble import RandomForestClassifier\n",
    "from sklearn.naive_bayes import MultinomialNB\n",
    "from sklearn.linear_model import LogisticRegression\n",
    "from sklearn.grid_search import GridSearchCV\n",
    "from sklearn.metrics import classification_report, confusion_matrix"
   ]
  },
  {
   "cell_type": "code",
   "execution_count": 2,
   "metadata": {
    "collapsed": false
   },
   "outputs": [],
   "source": [
    "data = []\n",
    "root = './blogs'\n",
    "for fil in os.listdir(root):\n",
    "    try:\n",
    "        meta = fil.split('.')[1:3]\n",
    "        content = open(os.path.join(root, fil), \"r\", encoding='utf-8', errors='ignore').read()\n",
    "        data.append(meta+[content])\n",
    "    except:\n",
    "        print(os.path.join(root, fil))"
   ]
  },
  {
   "cell_type": "code",
   "execution_count": 3,
   "metadata": {
    "collapsed": false
   },
   "outputs": [
    {
     "data": {
      "text/html": [
       "<div>\n",
       "<table border=\"1\" class=\"dataframe\">\n",
       "  <thead>\n",
       "    <tr style=\"text-align: right;\">\n",
       "      <th></th>\n",
       "      <th>gender</th>\n",
       "      <th>age</th>\n",
       "      <th>posts</th>\n",
       "    </tr>\n",
       "  </thead>\n",
       "  <tbody>\n",
       "    <tr>\n",
       "      <th>0</th>\n",
       "      <td>female</td>\n",
       "      <td>37</td>\n",
       "      <td>&lt;Blog&gt;\\n\\n&lt;date&gt;31,May,2004&lt;/date&gt;\\n&lt;post&gt;\\n\\n...</td>\n",
       "    </tr>\n",
       "    <tr>\n",
       "      <th>1</th>\n",
       "      <td>female</td>\n",
       "      <td>17</td>\n",
       "      <td>&lt;Blog&gt;\\n\\n&lt;date&gt;23,November,2002&lt;/date&gt;\\n&lt;post...</td>\n",
       "    </tr>\n",
       "    <tr>\n",
       "      <th>2</th>\n",
       "      <td>male</td>\n",
       "      <td>23</td>\n",
       "      <td>&lt;Blog&gt;\\n\\n&lt;date&gt;19,June,2004&lt;/date&gt;\\n&lt;post&gt;\\n\\...</td>\n",
       "    </tr>\n",
       "    <tr>\n",
       "      <th>3</th>\n",
       "      <td>female</td>\n",
       "      <td>25</td>\n",
       "      <td>&lt;Blog&gt;\\n\\n\\n\\n&lt;date&gt;31,May,2004&lt;/date&gt;\\n&lt;post&gt;...</td>\n",
       "    </tr>\n",
       "    <tr>\n",
       "      <th>4</th>\n",
       "      <td>male</td>\n",
       "      <td>25</td>\n",
       "      <td>&lt;Blog&gt;\\n\\n&lt;date&gt;05,July,2003&lt;/date&gt;\\n&lt;post&gt;\\n\\...</td>\n",
       "    </tr>\n",
       "  </tbody>\n",
       "</table>\n",
       "</div>"
      ],
      "text/plain": [
       "   gender age                                              posts\n",
       "0  female  37  <Blog>\\n\\n<date>31,May,2004</date>\\n<post>\\n\\n...\n",
       "1  female  17  <Blog>\\n\\n<date>23,November,2002</date>\\n<post...\n",
       "2    male  23  <Blog>\\n\\n<date>19,June,2004</date>\\n<post>\\n\\...\n",
       "3  female  25  <Blog>\\n\\n\\n\\n<date>31,May,2004</date>\\n<post>...\n",
       "4    male  25  <Blog>\\n\\n<date>05,July,2003</date>\\n<post>\\n\\..."
      ]
     },
     "execution_count": 3,
     "metadata": {},
     "output_type": "execute_result"
    }
   ],
   "source": [
    "data = pd.DataFrame(data, columns=['gender', 'age', 'posts'])\n",
    "data.head()"
   ]
  },
  {
   "cell_type": "code",
   "execution_count": 51,
   "metadata": {
    "collapsed": false
   },
   "outputs": [
    {
     "data": {
      "text/plain": [
       "'<Blog>\\n\\n<date>31,May,2004</date>\\n<post>\\n'"
      ]
     },
     "execution_count": 51,
     "metadata": {},
     "output_type": "execute_result"
    }
   ],
   "source": [
    "data['posts'][0][:40]"
   ]
  },
  {
   "cell_type": "code",
   "execution_count": 4,
   "metadata": {
    "collapsed": false
   },
   "outputs": [],
   "source": [
    "# нормализовать\n",
    "# я не имею НИ МАЛЕЙШЕГО ПОНЯТИЯ что значит \"обратить внимание на тэги\" и просто удаляю их к чертям\n",
    "data['normalized'] = data['posts'].map(lambda x: re.sub('</?[(?:Blog)|(?:post)]+>|<date>[^<]+</date>', '', x))\n",
    "data['normalized'] = data['normalized'].map(lambda x: re.sub('\\s{2,}', ' ', x).strip())"
   ]
  },
  {
   "cell_type": "code",
   "execution_count": 53,
   "metadata": {
    "collapsed": false
   },
   "outputs": [
    {
     "data": {
      "text/plain": [
       "'Well, everyone got up and going this mor'"
      ]
     },
     "execution_count": 53,
     "metadata": {},
     "output_type": "execute_result"
    }
   ],
   "source": [
    "data['normalized'][0][:40]"
   ]
  },
  {
   "cell_type": "code",
   "execution_count": 7,
   "metadata": {
    "collapsed": false
   },
   "outputs": [],
   "source": [
    "# векторизовать\n",
    "cv = CountVectorizer(preprocessor=WordNetLemmatizer().lemmatize, stop_words='english', min_df=2, max_df=0.95)\n",
    "cv_matrix = cv.fit_transform(data['normalized'])\n",
    "tfidf_transformer = TfidfTransformer()\n",
    "tfidf = tfidf_transformer.fit_transform(cv_matrix)"
   ]
  },
  {
   "cell_type": "code",
   "execution_count": 9,
   "metadata": {
    "collapsed": true
   },
   "outputs": [],
   "source": [
    "X_train, X_test, y_train, y_test = train_test_split(tfidf, data['gender'])"
   ]
  },
  {
   "cell_type": "markdown",
   "metadata": {},
   "source": [
    "например, построить частотные списки и сравнить их (достаточно ли матрицы терм-документ с ненормализованными вхождениями слов?)"
   ]
  },
  {
   "cell_type": "code",
   "execution_count": null,
   "metadata": {
    "collapsed": false
   },
   "outputs": [],
   "source": [
    "# НА*&#!@"
   ]
  },
  {
   "cell_type": "code",
   "execution_count": null,
   "metadata": {
    "collapsed": false
   },
   "outputs": [],
   "source": [
    "# лес\n",
    "forest = RandomForestClassifier(random_state=6)\n",
    "params = {}\n",
    "gs = GridSearchCV(forest, params)\n",
    "gs = gs.fit(X_train, y_train)\n",
    "# здесь про параметры\n",
    "prediction = gs.predict(X_test)\n",
    "print(classification_report(y_test, prediction))\n",
    "print(confusion_matrix(y_test, prediction))"
   ]
  },
  {
   "cell_type": "code",
   "execution_count": null,
   "metadata": {
    "collapsed": true
   },
   "outputs": [],
   "source": [
    "# байес\n",
    "bayes = MultinomialNB()\n",
    "params = {}\n",
    "gs = GridSearchCV(bayes, params)\n",
    "gs = gs.fit(X_train, y_train)\n",
    "# здесь про параметры\n",
    "prediction = gs.predict(X_test)\n",
    "print(classification_report(y_test, prediction))\n",
    "print(confusion_matrix(y_test, prediction))"
   ]
  },
  {
   "cell_type": "code",
   "execution_count": null,
   "metadata": {
    "collapsed": true
   },
   "outputs": [],
   "source": [
    "# логрег\n",
    "lgrg = LogisticRegression()\n",
    "params = {}\n",
    "gs = GridSearchCV(lgrg, params)\n",
    "gs = gs.fit(X_train, y_train)\n",
    "# здесь про параметры\n",
    "prediction = gs.predict(X_test)\n",
    "print(classification_report(y_test, prediction))\n",
    "print(confusion_matrix(y_test, prediction))"
   ]
  },
  {
   "cell_type": "code",
   "execution_count": null,
   "metadata": {
    "collapsed": true
   },
   "outputs": [],
   "source": []
  }
 ],
 "metadata": {
  "anaconda-cloud": {},
  "kernelspec": {
   "display_name": "Python [conda root]",
   "language": "python",
   "name": "conda-root-py"
  },
  "language_info": {
   "codemirror_mode": {
    "name": "ipython",
    "version": 3
   },
   "file_extension": ".py",
   "mimetype": "text/x-python",
   "name": "python",
   "nbconvert_exporter": "python",
   "pygments_lexer": "ipython3",
   "version": "3.5.2"
  }
 },
 "nbformat": 4,
 "nbformat_minor": 1
}
