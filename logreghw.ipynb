{
 "cells": [
  {
   "cell_type": "code",
   "execution_count": 3,
   "metadata": {
    "collapsed": false
   },
   "outputs": [],
   "source": [
    "import os\n",
    "import re\n",
    "import sys\n",
    "import random\n",
    "import numpy as np\n",
    "import pandas as pd\n",
    "import seaborn as sns\n",
    "import matplotlib.pyplot as plt\n",
    "from collections import Counter\n",
    "from nltk.stem import WordNetLemmatizer\n",
    "from sklearn.naive_bayes import MultinomialNB\n",
    "from sklearn.ensemble import RandomForestClassifier\n",
    "from sklearn.linear_model import LogisticRegression\n",
    "from sklearn.model_selection import train_test_split, GridSearchCV\n",
    "from sklearn.metrics import classification_report, confusion_matrix\n",
    "from sklearn.feature_extraction.text import CountVectorizer, TfidfTransformer\n",
    "\n",
    "%matplotlib inline"
   ]
  },
  {
   "cell_type": "markdown",
   "metadata": {},
   "source": [
    "Baseline: равновероятный выбор между всеми главными героями. +\n",
    "\n",
    "Примерный план действий: \n",
    "\n",
    "нормализовать (свой выбор процедур объяснить (например, нужно ли включать в стоп-лист обсценную лексику?); +\n",
    "\n",
    "векторизовать (например, CountVectorizer), +\n",
    "\n",
    "отрезать проверочную выборку (эту часть не трогаем до последней проверки). +\n",
    "\n",
    "На оставшейся, большей, части данных: \n",
    "\n",
    "1) немного поанализировать данные, чтобы понять, какие признаки могут помочь при обучении — \n",
    "\n",
    "- например, построить частотные списки \n",
    "\n",
    "- и сравнить их (достаточно ли матрицы терм-документ с ненормализованными вхождениями слов?);  \n",
    "\n",
    "2) обучить модели \n",
    "- (лес, +\n",
    "\n",
    "- наивный байес, +\n",
    "\n",
    "- логит) +-\n",
    "\n",
    "и подобрать их оптимальные параметры. +\n",
    "\n",
    "Интерпретировать параметры (атрибуты) лучших моделей. +\n",
    "\n",
    "Протестировать их на проверочной выборке, +\n",
    "\n",
    "выбрать лучшую модель, \n",
    "\n",
    "проиллюстрировать результат (например, нарисовать decision surface). \n",
    "\n",
    "Сравнить результат с нехитрым Baseline классификатором."
   ]
  },
  {
   "cell_type": "code",
   "execution_count": 2,
   "metadata": {
    "collapsed": false
   },
   "outputs": [],
   "source": [
    "# загружаем данные\n",
    "data = []\n",
    "root = './blogs'\n",
    "for fil in os.listdir(root):\n",
    "    try:\n",
    "        meta = fil.split('.')[1:3]\n",
    "        content = open(os.path.join(root, fil), \"r\", encoding='utf-8', errors='ignore').read()\n",
    "        data.append(meta+[content])\n",
    "    except:\n",
    "        print(os.path.join(root, fil))"
   ]
  },
  {
   "cell_type": "code",
   "execution_count": 3,
   "metadata": {
    "collapsed": false
   },
   "outputs": [
    {
     "data": {
      "text/html": [
       "<div>\n",
       "<table border=\"1\" class=\"dataframe\">\n",
       "  <thead>\n",
       "    <tr style=\"text-align: right;\">\n",
       "      <th></th>\n",
       "      <th>gender</th>\n",
       "      <th>age</th>\n",
       "      <th>posts</th>\n",
       "    </tr>\n",
       "  </thead>\n",
       "  <tbody>\n",
       "    <tr>\n",
       "      <th>0</th>\n",
       "      <td>female</td>\n",
       "      <td>37</td>\n",
       "      <td>&lt;Blog&gt;\\n\\n&lt;date&gt;31,May,2004&lt;/date&gt;\\n&lt;post&gt;\\n\\n...</td>\n",
       "    </tr>\n",
       "    <tr>\n",
       "      <th>1</th>\n",
       "      <td>female</td>\n",
       "      <td>17</td>\n",
       "      <td>&lt;Blog&gt;\\n\\n&lt;date&gt;23,November,2002&lt;/date&gt;\\n&lt;post...</td>\n",
       "    </tr>\n",
       "    <tr>\n",
       "      <th>2</th>\n",
       "      <td>male</td>\n",
       "      <td>23</td>\n",
       "      <td>&lt;Blog&gt;\\n\\n&lt;date&gt;19,June,2004&lt;/date&gt;\\n&lt;post&gt;\\n\\...</td>\n",
       "    </tr>\n",
       "    <tr>\n",
       "      <th>3</th>\n",
       "      <td>female</td>\n",
       "      <td>25</td>\n",
       "      <td>&lt;Blog&gt;\\n\\n\\n\\n&lt;date&gt;31,May,2004&lt;/date&gt;\\n&lt;post&gt;...</td>\n",
       "    </tr>\n",
       "    <tr>\n",
       "      <th>4</th>\n",
       "      <td>male</td>\n",
       "      <td>25</td>\n",
       "      <td>&lt;Blog&gt;\\n\\n&lt;date&gt;05,July,2003&lt;/date&gt;\\n&lt;post&gt;\\n\\...</td>\n",
       "    </tr>\n",
       "  </tbody>\n",
       "</table>\n",
       "</div>"
      ],
      "text/plain": [
       "   gender age                                              posts\n",
       "0  female  37  <Blog>\\n\\n<date>31,May,2004</date>\\n<post>\\n\\n...\n",
       "1  female  17  <Blog>\\n\\n<date>23,November,2002</date>\\n<post...\n",
       "2    male  23  <Blog>\\n\\n<date>19,June,2004</date>\\n<post>\\n\\...\n",
       "3  female  25  <Blog>\\n\\n\\n\\n<date>31,May,2004</date>\\n<post>...\n",
       "4    male  25  <Blog>\\n\\n<date>05,July,2003</date>\\n<post>\\n\\..."
      ]
     },
     "execution_count": 3,
     "metadata": {},
     "output_type": "execute_result"
    }
   ],
   "source": [
    "data = pd.DataFrame(data, columns=['gender', 'age', 'posts'])\n",
    "data.head()"
   ]
  },
  {
   "cell_type": "code",
   "execution_count": 5,
   "metadata": {
    "collapsed": false
   },
   "outputs": [],
   "source": [
    "# нормализовать\n",
    "# я читаю \"обратить внимание на тэги\" как \"не забыть удалить теги\"\n",
    "# не убираю urlLink потому что количество ссылок может играть роль\n",
    "data['normalized'] = data['posts'].map(lambda x: re.sub('</?[(?:Blog)|(?:post)]+>|<date>[^<]+</date>', '', x))\n",
    "data['normalized'] = data['normalized'].map(lambda x: re.sub('\\s{2,}', ' ', x).strip())"
   ]
  },
  {
   "cell_type": "code",
   "execution_count": 50,
   "metadata": {
    "collapsed": false
   },
   "outputs": [
    {
     "data": {
      "text/html": [
       "<div>\n",
       "<table border=\"1\" class=\"dataframe\">\n",
       "  <thead>\n",
       "    <tr style=\"text-align: right;\">\n",
       "      <th></th>\n",
       "      <th>gender</th>\n",
       "      <th>age</th>\n",
       "      <th>posts</th>\n",
       "      <th>normalized</th>\n",
       "    </tr>\n",
       "  </thead>\n",
       "  <tbody>\n",
       "    <tr>\n",
       "      <th>0</th>\n",
       "      <td>female</td>\n",
       "      <td>37</td>\n",
       "      <td>&lt;Blog&gt;\\n\\n&lt;date&gt;31,May,2004&lt;/date&gt;\\n&lt;post&gt;\\n\\n...</td>\n",
       "      <td>Well, everyone got up and going this morning. ...</td>\n",
       "    </tr>\n",
       "    <tr>\n",
       "      <th>1</th>\n",
       "      <td>female</td>\n",
       "      <td>17</td>\n",
       "      <td>&lt;Blog&gt;\\n\\n&lt;date&gt;23,November,2002&lt;/date&gt;\\n&lt;post...</td>\n",
       "      <td>Yeah, sorry for not writing for a whole there,...</td>\n",
       "    </tr>\n",
       "    <tr>\n",
       "      <th>2</th>\n",
       "      <td>male</td>\n",
       "      <td>23</td>\n",
       "      <td>&lt;Blog&gt;\\n\\n&lt;date&gt;19,June,2004&lt;/date&gt;\\n&lt;post&gt;\\n\\...</td>\n",
       "      <td>cupid,please hear my cry, cupid, please let yo...</td>\n",
       "    </tr>\n",
       "    <tr>\n",
       "      <th>3</th>\n",
       "      <td>female</td>\n",
       "      <td>25</td>\n",
       "      <td>&lt;Blog&gt;\\n\\n\\n\\n&lt;date&gt;31,May,2004&lt;/date&gt;\\n&lt;post&gt;...</td>\n",
       "      <td>and did i mention that i no longer have to dea...</td>\n",
       "    </tr>\n",
       "    <tr>\n",
       "      <th>4</th>\n",
       "      <td>male</td>\n",
       "      <td>25</td>\n",
       "      <td>&lt;Blog&gt;\\n\\n&lt;date&gt;05,July,2003&lt;/date&gt;\\n&lt;post&gt;\\n\\...</td>\n",
       "      <td>B-Logs: The Business Blogs Paradox urlLink Hin...</td>\n",
       "    </tr>\n",
       "  </tbody>\n",
       "</table>\n",
       "</div>"
      ],
      "text/plain": [
       "   gender age                                              posts  \\\n",
       "0  female  37  <Blog>\\n\\n<date>31,May,2004</date>\\n<post>\\n\\n...   \n",
       "1  female  17  <Blog>\\n\\n<date>23,November,2002</date>\\n<post...   \n",
       "2    male  23  <Blog>\\n\\n<date>19,June,2004</date>\\n<post>\\n\\...   \n",
       "3  female  25  <Blog>\\n\\n\\n\\n<date>31,May,2004</date>\\n<post>...   \n",
       "4    male  25  <Blog>\\n\\n<date>05,July,2003</date>\\n<post>\\n\\...   \n",
       "\n",
       "                                          normalized  \n",
       "0  Well, everyone got up and going this morning. ...  \n",
       "1  Yeah, sorry for not writing for a whole there,...  \n",
       "2  cupid,please hear my cry, cupid, please let yo...  \n",
       "3  and did i mention that i no longer have to dea...  \n",
       "4  B-Logs: The Business Blogs Paradox urlLink Hin...  "
      ]
     },
     "execution_count": 50,
     "metadata": {},
     "output_type": "execute_result"
    }
   ],
   "source": [
    "data.head()"
   ]
  },
  {
   "cell_type": "code",
   "execution_count": 9,
   "metadata": {
    "collapsed": false
   },
   "outputs": [],
   "source": [
    "# сохранить и выкачать, чтобы не тратить на это время после перезапуска ядра\n",
    "data.to_pickle('blogdata.pickle')"
   ]
  },
  {
   "cell_type": "code",
   "execution_count": 4,
   "metadata": {
    "collapsed": false
   },
   "outputs": [],
   "source": [
    "data = pd.read_pickle('blogdata.pickle')"
   ]
  },
  {
   "cell_type": "code",
   "execution_count": 5,
   "metadata": {
    "collapsed": false
   },
   "outputs": [],
   "source": [
    "# режем\n",
    "X_train, X_test, y_train, y_test = train_test_split(data, data['gender'])"
   ]
  },
  {
   "cell_type": "markdown",
   "metadata": {},
   "source": [
    "например, построить частотные списки и сравнить их (достаточно ли матрицы терм-документ с ненормализованными вхождениями слов?)"
   ]
  },
  {
   "cell_type": "code",
   "execution_count": 6,
   "metadata": {
    "collapsed": false
   },
   "outputs": [],
   "source": [
    "# всякие аналитики\n",
    "male = X_train.loc[X_train['gender']=='male']['normalized']\n",
    "female = X_train.loc[X_train['gender']=='female']['normalized']"
   ]
  },
  {
   "cell_type": "code",
   "execution_count": 139,
   "metadata": {
    "collapsed": false
   },
   "outputs": [
    {
     "name": "stdout",
     "output_type": "stream",
     "text": [
      "men finished\n",
      "in 44.078654000000824\n",
      "women finished\n",
      "in 37.251775000000634\n"
     ]
    }
   ],
   "source": [
    "# import time\n",
    "\n",
    "t1 = time.clock()\n",
    "counter_male = list(map(lambda man: list(map(lambda x: x.strip('.,?!\"() @:;'), man.lower().split())), male))\n",
    "t2 = time.clock()\n",
    "print('men finished')\n",
    "print('in {}'.format(t2-t1))\n",
    "\n",
    "t1 = time.clock()\n",
    "counter_female = list(map(lambda woman: list(map(lambda x: x.strip('.,?!\"() @:;'), woman.lower().split())), female))\n",
    "t2 = time.clock()\n",
    "print('women finished')\n",
    "print('in {}'.format(t2-t1))\n",
    "\n",
    "\n",
    "\n",
    "# male_count = {}\n",
    "# t1 = time.clock()\n",
    "# for man in counter_male:\n",
    "# #     man = list(map(lambda x: x.strip('.,?!\"@:;'), man.lower().split()))\n",
    "#     male_count = dict(Counter(male_count)+Counter(man))\n",
    "# t2 = time.clock()\n",
    "# print('men finished')\n",
    "# print('in {}'.format(t2-t1))\n",
    "\n",
    "# female_count = {}\n",
    "# t1 = time.clock()\n",
    "# for woman in counter_female:\n",
    "# #     woman = list(map(lambda x: x.strip('.,?!\"@:;'), woman.lower().split()))\n",
    "#     female_count = dict(Counter(female_count)+Counter(woman))\n",
    "# t2 = time.clock()\n",
    "# print('women finished')\n",
    "# print('in {}'.format(t2-t1))\n",
    "\n",
    "# freqlists = pd.DataFrame({'male': sorted(male_count, key=male_count.get)[:50], 'female': sorted(female_count, key=female_count.get)[:50]})\n",
    "# freqlists.head()"
   ]
  },
  {
   "cell_type": "code",
   "execution_count": 138,
   "metadata": {
    "collapsed": false
   },
   "outputs": [
    {
     "data": {
      "text/html": [
       "<div>\n",
       "<table border=\"1\" class=\"dataframe\">\n",
       "  <thead>\n",
       "    <tr style=\"text-align: right;\">\n",
       "      <th></th>\n",
       "      <th>female</th>\n",
       "      <th>male</th>\n",
       "    </tr>\n",
       "  </thead>\n",
       "  <tbody>\n",
       "    <tr>\n",
       "      <th>0</th>\n",
       "      <td>材</td>\n",
       "      <td>everything.)</td>\n",
       "    </tr>\n",
       "    <tr>\n",
       "      <th>1</th>\n",
       "      <td>堵</td>\n",
       "      <td>flipped...and</td>\n",
       "    </tr>\n",
       "    <tr>\n",
       "      <th>2</th>\n",
       "      <td>⵽</td>\n",
       "      <td>re-occur</td>\n",
       "    </tr>\n",
       "    <tr>\n",
       "      <th>3</th>\n",
       "      <td>糯</td>\n",
       "      <td>converseration</td>\n",
       "    </tr>\n",
       "    <tr>\n",
       "      <th>4</th>\n",
       "      <td>얼</td>\n",
       "      <td>on.&amp;nbsp;&amp;nbsp;&amp;nbsp;&amp;nbsp;&amp;nbsp</td>\n",
       "    </tr>\n",
       "  </tbody>\n",
       "</table>\n",
       "</div>"
      ],
      "text/plain": [
       "  female                              male\n",
       "0      材                      everything.)\n",
       "1      堵                     flipped...and\n",
       "2      ⵽                          re-occur\n",
       "3      糯                    converseration\n",
       "4      얼  on.&nbsp;&nbsp;&nbsp;&nbsp;&nbsp"
      ]
     },
     "execution_count": 138,
     "metadata": {},
     "output_type": "execute_result"
    }
   ],
   "source": [
    "freqlists = pd.DataFrame({'male': sorted(male_count, key=male_count.get)[:50], 'female': sorted(female_count, key=female_count.get)[:50]})\n",
    "freqlists.head()"
   ]
  },
  {
   "cell_type": "code",
   "execution_count": null,
   "metadata": {
    "collapsed": false
   },
   "outputs": [],
   "source": []
  },
  {
   "cell_type": "code",
   "execution_count": 7,
   "metadata": {
    "collapsed": false
   },
   "outputs": [],
   "source": [
    "# векторизовать\n",
    "# никаких дополнительных стоп-слов не добавляю, потому что это обычный текст на английском\n",
    "cv = CountVectorizer(preprocessor=WordNetLemmatizer().lemmatize, stop_words='english', min_df=2, max_df=0.95)\n",
    "cv = cv.fit_transform(data['normalized'])\n",
    "tfidf_transformer = TfidfTransformer()\n",
    "tfidf = tfidf_transformer.fit_transform(cv)"
   ]
  },
  {
   "cell_type": "code",
   "execution_count": 8,
   "metadata": {
    "collapsed": true
   },
   "outputs": [],
   "source": [
    "# ещё раз режем\n",
    "X_train, X_test, y_train, y_test = train_test_split(tfidf, data['gender'])"
   ]
  },
  {
   "cell_type": "code",
   "execution_count": 116,
   "metadata": {
    "collapsed": false
   },
   "outputs": [
    {
     "name": "stdout",
     "output_type": "stream",
     "text": [
      "Results:\n",
      "             precision    recall  f1-score   support\n",
      "\n",
      "     female       0.51      0.50      0.51      2432\n",
      "       male       0.50      0.51      0.51      2398\n",
      "\n",
      "avg / total       0.51      0.51      0.51      4830\n",
      "\n",
      "Confusion matrix:\n",
      "[[1220 1212]\n",
      " [1172 1226]]\n"
     ]
    }
   ],
   "source": [
    "# baseline - рандомно приписываем класс\n",
    "def dummy_classifier(X):\n",
    "    res = [random.choice(['male', 'female']) for i in range(X.shape[0])]\n",
    "    return res\n",
    "prediction = dummy_classifier(X_test)\n",
    "print('Results:')\n",
    "print(classification_report(y_test, prediction))\n",
    "print('Confusion matrix:')\n",
    "print(confusion_matrix(y_test, prediction))"
   ]
  },
  {
   "cell_type": "markdown",
   "metadata": {},
   "source": [
    "Очевидным образом, если у нас два уравновешенных класса, dummy-clasifier справляется в половине случаев."
   ]
  },
  {
   "cell_type": "markdown",
   "metadata": {},
   "source": [
    "Random Forest. Выбираю всё те же характеристики для варьирования: n_estimators, потому что это эндемичная штука леса, которая очень влияет на результат, и max_depth "
   ]
  },
  {
   "cell_type": "code",
   "execution_count": 9,
   "metadata": {
    "collapsed": true
   },
   "outputs": [],
   "source": [
    "def how_to_train_your_model(model, model_name, parameters, scoring=None):\n",
    "    print('Tuning {} with GridSearch'.format(model_name))\n",
    "    print()\n",
    "    print('Parameters:\\n\\t{}'.format('\\n\\t'.join(list(parameters.keys()))))\n",
    "    print()\n",
    "    sys.stdout.write('Fitting models...')\n",
    "    gs = GridSearchCV(model, parameters)\n",
    "    gs = gs.fit(X_train, y_train)\n",
    "    sys.stdout.write('Fitted')\n",
    "\n",
    "    # здесь про параметры\n",
    "    print()\n",
    "    print(\"Best parameters set:\")\n",
    "    best_parameters = gs.best_estimator_.get_params()\n",
    "    for param_name in sorted(parameters.keys()):\n",
    "        print(\"\\t{}: {}\".format(param_name, best_parameters[param_name]))\n",
    "    print()\n",
    "    print('Predicting test values...')\n",
    "    prediction = gs.predict(X_test)\n",
    "    print('Results:')\n",
    "    print(classification_report(y_test, prediction))\n",
    "    print('Confusion matrix:')\n",
    "    print(confusion_matrix(y_test, prediction))\n",
    "    print()\n",
    "    print('Parameters and results for training set:')\n",
    "    means = list(map(lambda x: round(x, 3), gs.cv_results_['mean_test_score']))\n",
    "    params_order = sorted(parameters.keys())\n",
    "    if len(parameters)==2:\n",
    "        data = []\n",
    "        for mean, params in zip(means, gs.cv_results_['params']):\n",
    "            data.append([mean, params[params_order[0]], params[params_order[1]]])\n",
    "        data = pd.DataFrame(data, columns=['mean']+params_order).fillna(\"None\")\n",
    "        data = data.pivot(params_order[0], params_order[1], 'mean')\n",
    "        sns.heatmap(data, annot=True, cbar=False);\n",
    "    elif len(parameters)==1:\n",
    "        sns.pointplot(parameters[params_order[0]], means);\n",
    "    return gs"
   ]
  },
  {
   "cell_type": "code",
   "execution_count": 48,
   "metadata": {
    "collapsed": false
   },
   "outputs": [
    {
     "name": "stdout",
     "output_type": "stream",
     "text": [
      "Tuning RandomForest with GridSearch\n",
      "\n",
      "Parameters are:\n",
      "\tn_estimators\n",
      "\tmax_depth\n",
      "\n",
      "Fitting models...\n",
      "Fitted\n",
      "\n",
      "Best parameters set:\n",
      "\tmax_depth: 7\n",
      "\tn_estimators: 100\n",
      "\n",
      "Predicting test values...\n",
      "Results are:\n",
      "             precision    recall  f1-score   support\n",
      "\n",
      "     female       0.68      0.78      0.73      2386\n",
      "       male       0.75      0.64      0.69      2444\n",
      "\n",
      "avg / total       0.72      0.71      0.71      4830\n",
      "\n",
      "Confusion matrix:\n",
      "[[1872  514]\n",
      " [ 881 1563]]\n",
      "Parameters and results for training set:\n"
     ]
    },
    {
     "data": {
      "image/png": "[encoded data removed]",
      "text/plain": [
       "<matplotlib.figure.Figure at 0x174a90a58>"
      ]
     },
     "metadata": {},
     "output_type": "display_data"
    }
   ],
   "source": [
    "# лес\n",
    "parameters = {'n_estimators': list(range(10, 101, 10)), 'max_depth': [3, 5, 7]} # list(range(1, 10, 2))\n",
    "forest = RandomForestClassifier(random_state=6, n_jobs=-1, error_score=np.NaN)\n",
    "how_to_train_your_model(forest, 'RandomForest', parameters)"
   ]
  },
  {
   "cell_type": "markdown",
   "metadata": {},
   "source": [
    "Окей, лучшие параметры леса - глубина 7 при 100 деревьях. Можно попробовать потренировать более точно:"
   ]
  },
  {
   "cell_type": "code",
   "execution_count": 68,
   "metadata": {
    "collapsed": false
   },
   "outputs": [
    {
     "name": "stdout",
     "output_type": "stream",
     "text": [
      "Tuning RandomForest with GridSearch\n",
      "\n",
      "Parameters:\n",
      "\tn_estimators\n",
      "\tmax_depth\n",
      "\n",
      "Fitting models...Fitted\n",
      "Best parameters set:\n",
      "\tmax_depth: 8\n",
      "\tn_estimators: 110\n",
      "\n",
      "Predicting test values...\n",
      "Results:\n",
      "             precision    recall  f1-score   support\n",
      "\n",
      "     female       0.73      0.77      0.75      2424\n",
      "       male       0.75      0.71      0.73      2406\n",
      "\n",
      "avg / total       0.74      0.74      0.74      4830\n",
      "\n",
      "Confusion matrix:\n",
      "[[1864  560]\n",
      " [ 704 1702]]\n",
      "\n",
      "Parameters and results for training set:\n"
     ]
    },
    {
     "data": {
      "image/png": "[encoded data removed]",
      "text/plain": [
       "<matplotlib.figure.Figure at 0x3daf74cc0>"
      ]
     },
     "metadata": {},
     "output_type": "display_data"
    }
   ],
   "source": [
    "forest = RandomForestClassifier(random_state=6, n_jobs=-1, error_score=np.NaN)\n",
    "parameters = {'n_estimators': list(range(90, 121, 5)), 'max_depth': [6, 7, 8]}\n",
    "how_to_train_your_model(forest, 'RandomForest', parameters)"
   ]
  },
  {
   "cell_type": "markdown",
   "metadata": {
    "collapsed": true
   },
   "source": [
    "Кажется, здесь начинается какой-то рандом (я не могу увидеть паттерн). Да и разница между значениями не такая уж и большая. Тем не менее, на результат повлияло довольно значительно: +3% к f-мере на тестовой выборке. По сравнению с предыдущей моделью эта (max_depth=8, n_estimators=110) лучше размечает мужчин (особенно повезло полноте, она выросла на все 7%), в то время как разметка женщин почти не улучшилась (точнее, в соответствии с ростом полноты для мужчин выросла точность для женщин - на 5%).\n",
    "\n",
    "Однако всё это похоже на переобучение (нужно больше деревьев, нужно больше слоёв, когда оба эти параметра как раз позволяют контролировать переобучение), так что сделаю вид, что остановилась на грани, и дальше идти (ещё увеличивать глубину, например) не буду."
   ]
  },
  {
   "cell_type": "code",
   "execution_count": 87,
   "metadata": {
    "collapsed": false
   },
   "outputs": [
    {
     "data": {
      "text/plain": [
       "2424"
      ]
     },
     "execution_count": 87,
     "metadata": {},
     "output_type": "execute_result"
    }
   ],
   "source": [
    "# мы знаем, что confusion_matrix упорядочивает классы по алфавиту, строки - how it really is, \n",
    "# столбцы - как разметила модель, но вот на всякий случай доказательство\n",
    "sum([1 for i in y_test if i=='female'])"
   ]
  },
  {
   "cell_type": "markdown",
   "metadata": {},
   "source": [
    "Настраиваем Naive Bayes. Попробую варьировать параметр alpha, который (как я поняла) призван предупредить не попавшие в training set фичи и уберечь от нулевой вероятности; варьирую от 0.1 (чтобы не делить на ноль) до 1.0 (~от Лидстоуна до Лапласа). Кроме того, можно уже попробовать повыбирать метрики, которые использует GridSearch"
   ]
  },
  {
   "cell_type": "code",
   "execution_count": 120,
   "metadata": {
    "collapsed": false
   },
   "outputs": [
    {
     "name": "stdout",
     "output_type": "stream",
     "text": [
      "Tuning for precision\n",
      "Tuning NaiveBayes with GridSearch\n",
      "\n",
      "Parameters:\n",
      "\talpha\n",
      "\n",
      "Fitting models...Fitted\n",
      "Best parameters set:\n",
      "\talpha: 0.1\n",
      "\n",
      "Predicting test values...\n",
      "Results:\n",
      "             precision    recall  f1-score   support\n",
      "\n",
      "     female       0.70      0.83      0.76      2432\n",
      "       male       0.79      0.65      0.71      2398\n",
      "\n",
      "avg / total       0.75      0.74      0.74      4830\n",
      "\n",
      "Confusion matrix:\n",
      "[[2022  410]\n",
      " [ 851 1547]]\n",
      "\n",
      "Parameters and results for training set:\n",
      "\n",
      "Tuning for recall\n",
      "Tuning NaiveBayes with GridSearch\n",
      "\n",
      "Parameters:\n",
      "\talpha\n",
      "\n",
      "Fitting models...Fitted\n",
      "Best parameters set:\n",
      "\talpha: 0.1\n",
      "\n",
      "Predicting test values...\n",
      "Results:\n",
      "             precision    recall  f1-score   support\n",
      "\n",
      "     female       0.70      0.83      0.76      2432\n",
      "       male       0.79      0.65      0.71      2398\n",
      "\n",
      "avg / total       0.75      0.74      0.74      4830\n",
      "\n",
      "Confusion matrix:\n",
      "[[2022  410]\n",
      " [ 851 1547]]\n",
      "\n",
      "Parameters and results for training set:\n",
      "\n",
      "Tuning for accuracy\n",
      "Tuning NaiveBayes with GridSearch\n",
      "\n",
      "Parameters:\n",
      "\talpha\n",
      "\n",
      "Fitting models...Fitted\n",
      "Best parameters set:\n",
      "\talpha: 0.1\n",
      "\n",
      "Predicting test values...\n",
      "Results:\n",
      "             precision    recall  f1-score   support\n",
      "\n",
      "     female       0.70      0.83      0.76      2432\n",
      "       male       0.79      0.65      0.71      2398\n",
      "\n",
      "avg / total       0.75      0.74      0.74      4830\n",
      "\n",
      "Confusion matrix:\n",
      "[[2022  410]\n",
      " [ 851 1547]]\n",
      "\n",
      "Parameters and results for training set:\n",
      "\n"
     ]
    },
    {
     "data": {
      "image/png": "[encoded data removed]",
      "text/plain": [
       "<matplotlib.figure.Figure at 0x2ff4c0da0>"
      ]
     },
     "metadata": {},
     "output_type": "display_data"
    }
   ],
   "source": [
    "parameters = {'alpha': np.linspace(0.1, 1.0, 6)}\n",
    "scorings = ['precision', 'recall', 'accuracy']\n",
    "bayes = MultinomialNB()\n",
    "\n",
    "bayes_scorings = []\n",
    "for scoring in scorings:\n",
    "    print('Tuning for {}'.format(scoring))\n",
    "    gs = how_to_train_your_model(bayes, 'NaiveBayes', parameters, scoring=scoring)\n",
    "    bayes_scorings.append(gs)\n",
    "    print()"
   ]
  },
  {
   "cell_type": "markdown",
   "metadata": {},
   "source": [
    "Совершенно восхитительным образом чем ближе альфа к нулю, тем лучше. Я понимаю это как то, что данные исчерпывающие и никаких дополнительных фич ожидать больше не нужно (но я скорее всего неправа). Плюс scoring method не играет никакой роли (=the hyperparameter plateau is too flat)"
   ]
  },
  {
   "cell_type": "markdown",
   "metadata": {},
   "source": [
    "Итак, собственно, логитрегрессия. Класс бинарный, следовательно, настраивать solver и выбирать multinomial multi_class не нужно, и дефолтный liblinear solver должен by design справиться лучше всего. С другой стороны датасет довольно большой, так что можно попробовать использовать приспособленный для этого sag. Ну и опять же параметр C, который чем меньше, тем регулярней, а чем больше, тем потенциально выше вероятность оверфита."
   ]
  },
  {
   "cell_type": "code",
   "execution_count": 73,
   "metadata": {
    "collapsed": false
   },
   "outputs": [
    {
     "name": "stdout",
     "output_type": "stream",
     "text": [
      "Tuning binary LogisticRegression with GridSearch\n",
      "\n",
      "Parameters:\n",
      "\tC\n",
      "\n",
      "Fitting models...done\n",
      "\n",
      "Best parameters set:\n",
      "\tC: 2.5\n",
      "\n",
      "Predicting test values...done\n",
      "\n",
      "Results:\n",
      "             precision    recall  f1-score   support\n",
      "\n",
      "     female       0.82      0.82      0.82      2386\n",
      "       male       0.82      0.82      0.82      2444\n",
      "\n",
      "avg / total       0.82      0.82      0.82      4830\n",
      "\n",
      "Confusion matrix:\n",
      "[[1949  437]\n",
      " [ 430 2014]]\n",
      "\n",
      "Parameters and results:\n"
     ]
    },
    {
     "data": {
      "image/png": "[encoded data removed]",
      "text/plain": [
       "<matplotlib.figure.Figure at 0x174ebc7f0>"
      ]
     },
     "metadata": {},
     "output_type": "display_data"
    }
   ],
   "source": [
    "# логрег\n",
    "lgrg = LogisticRegression(random_state=4, n_jobs=-1)\n",
    "parameters_lgrg = {'C': [0.5, 1.0, 1.5, 2.0, 2.5]}\n",
    "lgrg_cv = how_to_train_your_model(lgrg, 'binary LogisticRegression', parameters_lgrg)"
   ]
  },
  {
   "cell_type": "code",
   "execution_count": null,
   "metadata": {
    "collapsed": false
   },
   "outputs": [
    {
     "name": "stdout",
     "output_type": "stream",
     "text": [
      "Tuning binary LogisticRegression with GridSearch\n",
      "\n",
      "Parameters:\n",
      "\tsolver\n",
      "\tC\n",
      "\n",
      "Fitting models..."
     ]
    }
   ],
   "source": [
    "lgrg = LogisticRegression(random_state=4, n_jobs=-1)\n",
    "parameters = {'C': np.linspace(0.5, 3.5, 7), 'solver': ['liblinear', 'sag']}\n",
    "gs_lgrg = how_to_train_your_model(lgrg, 'binary LogisticRegression', parameters)"
   ]
  },
  {
   "cell_type": "markdown",
   "metadata": {},
   "source": [
    "Выходит, что действительно для бинарного класса можно обойтись заводскими настройками solver, потому что в таком случае solver всё равно ничего не решает, а большие значения C показывают, что модель тяготеет к меньшей регулярности и большей сложности. Как и лес с глубиной дерева 8 и большим количеством деревьев - это всё (как мне кажется) вполне объяснимо просто самими данными: больше 350000 фич, sparce matrices, естественный язык и понятно, что вероятность успеха условного OneR крайне мала"
   ]
  },
  {
   "cell_type": "markdown",
   "metadata": {},
   "source": [
    "Ну а теперь собственно параметры логитрегрессии"
   ]
  },
  {
   "cell_type": "code",
   "execution_count": null,
   "metadata": {
    "collapsed": false
   },
   "outputs": [],
   "source": [
    "clf = gs_lgrg.best_estimator_\n",
    "clf.coef_"
   ]
  },
  {
   "cell_type": "markdown",
   "metadata": {},
   "source": [
    "Это было глупо, потому что здесь все 351379 фич"
   ]
  },
  {
   "cell_type": "code",
   "execution_count": null,
   "metadata": {
    "collapsed": false
   },
   "outputs": [],
   "source": [
    "clf.intercept_"
   ]
  },
  {
   "cell_type": "code",
   "execution_count": null,
   "metadata": {
    "collapsed": true
   },
   "outputs": [],
   "source": [
    "# от коэффициентов через logodds к вероятности\n",
    "# logodds = [clf.intercept_ + clf.coef_[i] * value[i] for i in range(len(clf.coef_))]\n",
    "logodds = [clf.intercept_ + clf.coef_[i] for i in range(len(clf.coef_))]\n",
    "odds = np.exp(logodds)\n",
    "prob = odds/(1 + odds)"
   ]
  },
  {
   "cell_type": "code",
   "execution_count": null,
   "metadata": {
    "collapsed": false
   },
   "outputs": [],
   "source": [
    "od = np.exp(clf.intercept_)\n",
    "pr = od/(1+od)\n",
    "pr"
   ]
  },
  {
   "cell_type": "markdown",
   "metadata": {},
   "source": [
    "Если я хоть что-то понимаю, теперь в prob под индексом i лежит вероятность того, что при условии того, что в тексте блога содержится терм i, мы можем утверждать, что автор - мужчина (нет, сейчас нет, но если подставить в value в закмменченной строчке какую-нибудь строку из данных, то будет, кажется). Это полезно, если мы хотим составить список самых как бы мужских и женских слов, наверно (хотя это можно сделать гораздо проще). И, соответственно, если произведение всех вот этих вероятностей больше intersept, то это мужчина, если меньше, то женщина"
   ]
  },
  {
   "cell_type": "code",
   "execution_count": null,
   "metadata": {
    "collapsed": false
   },
   "outputs": [],
   "source": [
    "probs = [prob[0][10*i] for i in range(len(sorted(prob[0]))/100)]\n",
    "sns.pointplot(np.linspace(0, len(probs), len(probs)), probs)"
   ]
  },
  {
   "cell_type": "code",
   "execution_count": null,
   "metadata": {
    "collapsed": true
   },
   "outputs": [],
   "source": []
  }
 ],
 "metadata": {
  "anaconda-cloud": {},
  "kernelspec": {
   "display_name": "Python [conda root]",
   "language": "python",
   "name": "conda-root-py"
  }
 },
 "nbformat": 4,
 "nbformat_minor": 1
}
