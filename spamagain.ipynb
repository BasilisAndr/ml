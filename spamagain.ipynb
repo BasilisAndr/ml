{
 "cells": [
  {
   "cell_type": "code",
   "execution_count": 36,
   "metadata": {
    "collapsed": true
   },
   "outputs": [],
   "source": [
    "import string\n",
    "import pandas as pd\n",
    "import numpy as np\n",
    "import matplotlib.pyplot as plt\n",
    "import seaborn as sns\n",
    "from nltk import word_tokenize\n",
    "from nltk.tokenize import TreebankWordTokenizer\n",
    "from nltk.stem.wordnet import WordNetLemmatizer\n",
    "from nltk.stem.lancaster import LancasterStemmer\n",
    "from sklearn.feature_extraction.text import CountVectorizer, TfidfTransformer, TfidfVectorizer\n",
    "from sklearn.naive_bayes import MultinomialNB\n",
    "from sklearn.metrics import classification_report, f1_score, accuracy_score, confusion_matrix, roc_curve, auc\n",
    "from sklearn.pipeline import Pipeline\n",
    "from sklearn.model_selection import StratifiedKFold, cross_val_score, train_test_split, GridSearchCV\n",
    "from sklearn.tree import DecisionTreeClassifier\n",
    "from sklearn.ensemble import RandomForestClassifier\n",
    "\n",
    "%matplotlib inline"
   ]
  },
  {
   "cell_type": "markdown",
   "metadata": {},
   "source": [
    "1(+6). Проверить, сбалансирован ли датасет (может быть, наблюдений одного класса слишком много?). Какие результаты покажет dummy classifier, который будет всем новым наблюдениям присваивать класс ham? Насколько плохо такое решение для задачи определения спама?<br />\n",
    "Грубое решение - включить в training set только необходимое число наблюдений (примерно поровну spam и ham). <br />\n",
    "Нормализовать тексты и обучить байесовскую модель (bag of words). Проверить, как влияют на результат:<br />\n",
    "\n",
    "1) разная токенизация: в одном случае знаки препинания удалять, в другом — считать их токенами;<br />\n",
    "2) лемматизация (отсутствие лемматизации, стемминг, лемматизация; инструменты можно использовать любые, например, nltk.stem);<br />\n",
    "3) удаление стоп-слов, а также пороги минимальной и максимальной document frequency;<br />\n",
    "4) векторизация документов (CountVectorizer vs. TfIdfVectorizer);<br />\n",
    "5) что-нибудь ещё?<br />\n",
    "\n",
    "При оценке классификатора обратите внимание на TP и FP."
   ]
  },
  {
   "cell_type": "markdown",
   "metadata": {},
   "source": [
    "Extra: ограничив количество наблюдений ham в обучающей выборке, мы игнорируем довольно много данных. 1) В цикле: случайно выбрать нужное число писем ham и сконструировать сбалансированную выборку, построить классификатор, оценить и записать результат; в итоге результаты усреднить. 2) поможет ли параметр class prior probability?"
   ]
  },
  {
   "cell_type": "code",
   "execution_count": 2,
   "metadata": {
    "collapsed": false
   },
   "outputs": [
    {
     "data": {
      "text/html": [
       "<div>\n",
       "<table border=\"1\" class=\"dataframe\">\n",
       "  <thead>\n",
       "    <tr style=\"text-align: right;\">\n",
       "      <th></th>\n",
       "      <th>label</th>\n",
       "      <th>message</th>\n",
       "    </tr>\n",
       "  </thead>\n",
       "  <tbody>\n",
       "    <tr>\n",
       "      <th>0</th>\n",
       "      <td>ham</td>\n",
       "      <td>Go until jurong point, crazy.. Available only ...</td>\n",
       "    </tr>\n",
       "    <tr>\n",
       "      <th>1</th>\n",
       "      <td>ham</td>\n",
       "      <td>Ok lar... Joking wif u oni...</td>\n",
       "    </tr>\n",
       "    <tr>\n",
       "      <th>2</th>\n",
       "      <td>spam</td>\n",
       "      <td>Free entry in 2 a wkly comp to win FA Cup fina...</td>\n",
       "    </tr>\n",
       "    <tr>\n",
       "      <th>3</th>\n",
       "      <td>ham</td>\n",
       "      <td>U dun say so early hor... U c already then say...</td>\n",
       "    </tr>\n",
       "    <tr>\n",
       "      <th>4</th>\n",
       "      <td>ham</td>\n",
       "      <td>Nah I don't think he goes to usf, he lives aro...</td>\n",
       "    </tr>\n",
       "  </tbody>\n",
       "</table>\n",
       "</div>"
      ],
      "text/plain": [
       "  label                                            message\n",
       "0   ham  Go until jurong point, crazy.. Available only ...\n",
       "1   ham                      Ok lar... Joking wif u oni...\n",
       "2  spam  Free entry in 2 a wkly comp to win FA Cup fina...\n",
       "3   ham  U dun say so early hor... U c already then say...\n",
       "4   ham  Nah I don't think he goes to usf, he lives aro..."
      ]
     },
     "execution_count": 2,
     "metadata": {},
     "output_type": "execute_result"
    }
   ],
   "source": [
    "path = 'smsspamcollection/SMSSpamCollection'\n",
    "\n",
    "messages = pd.read_csv(path, sep='\\t',\n",
    "                           names=[\"label\", \"message\"])\n",
    "messages.head()"
   ]
  },
  {
   "cell_type": "markdown",
   "metadata": {},
   "source": [
    "Загрузили, посмотрели. Смотрим на классы"
   ]
  },
  {
   "cell_type": "code",
   "execution_count": 3,
   "metadata": {
    "collapsed": false
   },
   "outputs": [
    {
     "name": "stdout",
     "output_type": "stream",
     "text": [
      "                                                        message\n",
      "label                                                          \n",
      "ham   count                                                4825\n",
      "      unique                                               4516\n",
      "      top                                Sorry, I'll call later\n",
      "      freq                                                   30\n",
      "spam  count                                                 747\n",
      "      unique                                                653\n",
      "      top     Please call our customer service representativ...\n",
      "      freq                                                    4\n"
     ]
    }
   ],
   "source": [
    "print(messages.groupby('label').describe())"
   ]
  },
  {
   "cell_type": "markdown",
   "metadata": {},
   "source": [
    "Выборка очевидно несбалансирована по классам (~6:1). Соответственно, dummy-classifier, всегда присваивающий ярлык \"ham\", будет иметь accuracy ~86%, а confusion matrix будет выглядеть вот так:"
   ]
  },
  {
   "cell_type": "code",
   "execution_count": 4,
   "metadata": {
    "collapsed": false
   },
   "outputs": [
    {
     "data": {
      "text/html": [
       "<div>\n",
       "<table border=\"1\" class=\"dataframe\">\n",
       "  <thead>\n",
       "    <tr style=\"text-align: right;\">\n",
       "      <th></th>\n",
       "      <th>clf_ham</th>\n",
       "      <th>clf_spam</th>\n",
       "    </tr>\n",
       "  </thead>\n",
       "  <tbody>\n",
       "    <tr>\n",
       "      <th>ham</th>\n",
       "      <td>4825</td>\n",
       "      <td>0</td>\n",
       "    </tr>\n",
       "    <tr>\n",
       "      <th>spam</th>\n",
       "      <td>747</td>\n",
       "      <td>0</td>\n",
       "    </tr>\n",
       "  </tbody>\n",
       "</table>\n",
       "</div>"
      ],
      "text/plain": [
       "      clf_ham  clf_spam\n",
       "ham      4825         0\n",
       "spam      747         0"
      ]
     },
     "execution_count": 4,
     "metadata": {},
     "output_type": "execute_result"
    }
   ],
   "source": [
    "d = {'clf_ham': pd.Series([4825, 747], index=['ham', 'spam']),\n",
    "    'clf_spam': pd.Series([0, 0], index=['ham', 'spam'])}\n",
    "pd.DataFrame(d)"
   ]
  },
  {
   "cell_type": "markdown",
   "metadata": {},
   "source": [
    "Для задачи определения спама классификатор, который никогда не определяет спам, абсолютно бесполезен просто по определению."
   ]
  },
  {
   "cell_type": "code",
   "execution_count": null,
   "metadata": {
    "collapsed": true
   },
   "outputs": [],
   "source": [
    "ham = messages.loc[messages['label']=='ham']\n",
    "spam = messages.loc[messages['label']=='spam']"
   ]
  },
  {
   "cell_type": "code",
   "execution_count": 24,
   "metadata": {
    "collapsed": true
   },
   "outputs": [],
   "source": [
    "# и да, мне всё равно, что он работает только на существительных\n",
    "lm = WordNetLemmatizer()\n",
    "st = LancasterStemmer()\n",
    "\n",
    "def nopunct(strin):\n",
    "    res = [x.strip(string.punctuation) for x in strin.split()]\n",
    "    return res\n",
    "\n",
    "parameters = {'vect__stop_words': [None, 'english'],\n",
    "              'vect__min_df': [1, 3],\n",
    "              'vect__max_df': [1.0, 0.6], \n",
    "              'vect__tokenizer': [nopunct, word_tokenize],\n",
    "              'vect__preprocessor': [None, lm.lemmatize, st.stem]}"
   ]
  },
  {
   "cell_type": "code",
   "execution_count": 43,
   "metadata": {
    "collapsed": false
   },
   "outputs": [
    {
     "name": "stdout",
     "output_type": "stream",
     "text": [
      "Training for shard 0\n",
      "tuning with CountVectorizer...\n",
      "tuning with TfidfVectorizer...\n",
      "all fitted\n",
      "Predicting...\n"
     ]
    },
    {
     "ename": "NameError",
     "evalue": "name 'gs_tf' is not defined",
     "output_type": "error",
     "traceback": [
      "\u001b[0;31m---------------------------------------------------------------------------\u001b[0m",
      "\u001b[0;31mNameError\u001b[0m                                 Traceback (most recent call last)",
      "\u001b[0;32m<ipython-input-43-f27fd3db5ed8>\u001b[0m in \u001b[0;36m<module>\u001b[0;34m()\u001b[0m\n\u001b[1;32m     32\u001b[0m \u001b[0;31m#     plt.plot(fpr, tpr, lw=lw, color=color,\u001b[0m\u001b[0;34m\u001b[0m\u001b[0;34m\u001b[0m\u001b[0m\n\u001b[1;32m     33\u001b[0m \u001b[0;31m#              label='ROC fold %d (area = %0.2f)' % (i, roc_auc))\u001b[0m\u001b[0;34m\u001b[0m\u001b[0;34m\u001b[0m\u001b[0m\n\u001b[0;32m---> 34\u001b[0;31m     \u001b[0mpread_cv\u001b[0m\u001b[0;34m,\u001b[0m \u001b[0mpraed_tf\u001b[0m \u001b[0;34m=\u001b[0m \u001b[0mgs_cv\u001b[0m\u001b[0;34m.\u001b[0m\u001b[0mpredict\u001b[0m\u001b[0;34m(\u001b[0m\u001b[0mX_test\u001b[0m\u001b[0;34m)\u001b[0m\u001b[0;34m,\u001b[0m \u001b[0mgs_tf\u001b[0m\u001b[0;34m.\u001b[0m\u001b[0mpredict\u001b[0m\u001b[0;34m(\u001b[0m\u001b[0mX_test\u001b[0m\u001b[0;34m)\u001b[0m\u001b[0;34m\u001b[0m\u001b[0m\n\u001b[0m\u001b[1;32m     35\u001b[0m     \u001b[0mprint\u001b[0m\u001b[0;34m(\u001b[0m\u001b[0mf1_score\u001b[0m\u001b[0;34m(\u001b[0m\u001b[0my_test\u001b[0m\u001b[0;34m,\u001b[0m \u001b[0mpraed_cv\u001b[0m\u001b[0;34m)\u001b[0m\u001b[0;34m)\u001b[0m\u001b[0;34m\u001b[0m\u001b[0m\n\u001b[1;32m     36\u001b[0m \u001b[0;34m\u001b[0m\u001b[0m\n",
      "\u001b[0;31mNameError\u001b[0m: name 'gs_tf' is not defined"
     ]
    }
   ],
   "source": [
    "shdata = []\n",
    "paramset = []\n",
    "for i in range(6):\n",
    "    shard = pd.concat([ham.sample(n=747), spam]).sample(frac=1) # это я случайно выбираю строчки и перемешиваю\n",
    "    print('Training for shard {}'.format(i))\n",
    "    X_train, X_test, y_train, y_test = train_test_split(shard['message'], shard['label'])\n",
    "    \n",
    "    CV_clf = Pipeline([('vect', CountVectorizer()),\n",
    "                       ('tfidf', TfidfTransformer()), \n",
    "                       ('clf', MultinomialNB()),])\n",
    "    TI_clf = Pipeline([('vect', TfidfVectorizer()),\n",
    "                       ('tfidf', TfidfTransformer()), \n",
    "                       ('clf', MultinomialNB()),])\n",
    "    \n",
    "    gs_cv = GridSearchCV(CV_clf, parameters)\n",
    "    gs_ti = GridSearchCV(TI_clf, parameters)\n",
    "    \n",
    "    print('tuning with CountVectorizer...')\n",
    "    gs_cv = gs_cv.fit(X_train, y_train)\n",
    "    print('tuning with TfidfVectorizer...')\n",
    "    gs_ti = gs_ti.fit(X_train, y_train)\n",
    "    print('all fitted')\n",
    "    \n",
    "    paramset = gs_cv.cv_results_['params']\n",
    "    \n",
    "    print('Predicting...')\n",
    "    praed_cv, praed_ti = gs_cv.predict(X_test), gs_ti.predict(X_test)\n",
    "    \n",
    "    shdata.append(gs_cv.cv_results_)\n",
    "    shdata.append(gs_ti.cv_results_)\n",
    "    print()\n",
    "    \n",
    "# plt.xlim([-0.05, 1.05])\n",
    "# plt.ylim([-0.05, 1.05])\n",
    "# plt.xlabel('False Positive Rate')\n",
    "# plt.ylabel('True Positive Rate')\n",
    "# plt.title('ROC for CV')\n",
    "# plt.legend(loc=\"lower right\")\n",
    "# plt.show()"
   ]
  },
  {
   "cell_type": "code",
   "execution_count": null,
   "metadata": {
    "collapsed": false
   },
   "outputs": [],
   "source": []
  },
  {
   "cell_type": "code",
   "execution_count": 28,
   "metadata": {
    "collapsed": false
   },
   "outputs": [
    {
     "data": {
      "text/plain": [
       "12"
      ]
     },
     "execution_count": 28,
     "metadata": {},
     "output_type": "execute_result"
    }
   ],
   "source": [
    "len(shdata)"
   ]
  },
  {
   "cell_type": "markdown",
   "metadata": {},
   "source": [
    "Ура, есть cv_results для всего. Теперь усреднять"
   ]
  },
  {
   "cell_type": "code",
   "execution_count": 30,
   "metadata": {
    "collapsed": false
   },
   "outputs": [],
   "source": [
    "paramset = shdata[0]['params']"
   ]
  },
  {
   "cell_type": "code",
   "execution_count": 33,
   "metadata": {
    "collapsed": false
   },
   "outputs": [
    {
     "data": {
      "text/plain": [
       "array([ 0.95091477,  0.95560018,  0.94042838,  0.9453369 ,  0.94578313,\n",
       "        0.95069166,  0.94712182,  0.94823739,  0.95113788,  0.95560018,\n",
       "        0.94042838,  0.9453369 ,  0.94087461,  0.94689871,  0.93105756,\n",
       "        0.93663543,  0.93507363,  0.94065149,  0.93351183,  0.94109772,\n",
       "        0.94065149,  0.94645248,  0.93038822,  0.93663543,  0.95091477,\n",
       "        0.95560018,  0.94042838,  0.9453369 ,  0.94578313,  0.95069166,\n",
       "        0.94712182,  0.94823739,  0.95113788,  0.95560018,  0.94042838,\n",
       "        0.9453369 ,  0.94087461,  0.94689871,  0.93105756,  0.93663543,\n",
       "        0.93507363,  0.94065149,  0.93351183,  0.94109772,  0.94065149,\n",
       "        0.94645248,  0.93038822,  0.93663543])"
      ]
     },
     "execution_count": 33,
     "metadata": {},
     "output_type": "execute_result"
    }
   ],
   "source": [
    "cv = np.array([shdata[x]['mean_test_score'] for x in range(1, 6, 2)]).mean(axis=0)\n",
    "tf = np.array([shdata[x]['mean_test_score'] for x in range(2, 7, 2)]).mean(axis=0)\n",
    "cv"
   ]
  },
  {
   "cell_type": "code",
   "execution_count": 37,
   "metadata": {
    "collapsed": false
   },
   "outputs": [
    {
     "data": {
      "text/plain": [
       "{'vect__max_df': 1.0,\n",
       " 'vect__min_df': 1,\n",
       " 'vect__preprocessor': None,\n",
       " 'vect__stop_words': None,\n",
       " 'vect__tokenizer': <function __main__.nopunct>}"
      ]
     },
     "execution_count": 37,
     "metadata": {},
     "output_type": "execute_result"
    }
   ],
   "source": [
    "paramset[0]"
   ]
  },
  {
   "cell_type": "code",
   "execution_count": 49,
   "metadata": {
    "collapsed": false
   },
   "outputs": [
    {
     "data": {
      "text/plain": [
       "<function matplotlib.pyplot.show>"
      ]
     },
     "execution_count": 49,
     "metadata": {},
     "output_type": "execute_result"
    },
    {
     "data": {
      "image/png": "[encoded data removed]",
      "text/plain": [
       "<matplotlib.figure.Figure at 0x11d37e320>"
      ]
     },
     "metadata": {},
     "output_type": "display_data"
    }
   ],
   "source": [
    "plt.plot(list(range(len(cv))), sorted(cv))\n",
    "plt.show"
   ]
  },
  {
   "cell_type": "markdown",
   "metadata": {},
   "source": [
    "2(+2). Сравнить результаты <br />\n",
    "- байесовского классификатора, <br />\n",
    "- решающего дерева <br />\n",
    "- и RandomForest. <br />\n",
    "Помимо стандартных метрик оценки качества модели, необходимо построить <br />\n",
    "- learning curve, <br />\n",
    "- ROC-curve, <br />\n",
    "- classification report <br />\n",
    "и интерпретировать эти результаты."
   ]
  },
  {
   "cell_type": "code",
   "execution_count": null,
   "metadata": {
    "collapsed": true
   },
   "outputs": [],
   "source": [
    "tree = DecisionTreeClassifier(random_state=6)\n",
    "vect = ??\n",
    "treedata = []\n",
    "for i in range(6):\n",
    "    shard = pd.concat([ham.sample(n=747), spam]).sample(frac=1) # это я случайно выбираю строчки и перемешиваю\n",
    "    # так как тут шесть выборок и кросс-валидация я не вижу особой необходимости делать отдельно тестовую выборку. \n",
    "    # К тому же это будет технически сложно с учётом прогонов разных векторайзеров, я лучше потом отдельно\n",
    "    print('Training tree for shard {}'.format(i))\n",
    "    X_train, X_test, y_train, y_test = train_test_split(shard['message'], shard['label'])\n",
    "    vect = vect.fit(X_train)\n",
    "    X_train = vect.transform(X_train)\n",
    "    X_test = vect.transform(X_test)\n",
    "    tree.fit(X_train, y_train)\n",
    "    \n",
    "    probas_ = gs_cv.predict_proba(X_test)\n",
    "    fpr, tpr, thresholds = roc_curve(y_test, probas_[:, 1])\n",
    "    mean_tpr += interp(mean_fpr, fpr, tpr)\n",
    "    mean_tpr[0] = 0.0\n",
    "    roc_auc = auc(fpr, tpr)\n",
    "    plt.plot(fpr, tpr, lw=lw, color=color,\n",
    "             label='ROC fold %d (area = %0.2f)' % (i, roc_auc))\n",
    "    print()\n",
    "\n",
    "tree_means = np.array([treedata[x]['mean_test_score'] for x in range(1, 6, 2)]).mean(axis=0)"
   ]
  },
  {
   "cell_type": "markdown",
   "metadata": {},
   "source": [
    "3(+2). А что, если в качестве предикторов брать не количество вхождений слов, а конструировать специальные признаки? Прежде всего, необходимо разделить таблицу на training set и test set в соотношении 80:20, test set не открывать до этапа оценки модели. С помощью pandas проверить, отличаются ли перечисленные ниже параметры (иможно придумать другие) для разных классов (spam/ham), и собрать матрицу признаков для обучения. Примеры признаков: длина сообщения, количество букв в ВЕРХНЕМ РЕГИСТРЕ, восклицательных знаков, цифр, запятых, каких-то конкретных слов (для этого можно построить частотный словарь по сообщениям каждого класса). Прокомментировать свой выбор. Векторизовать документы и построить классификатор. Оценить модель на проверочной выборке."
   ]
  },
  {
   "cell_type": "code",
   "execution_count": null,
   "metadata": {
    "collapsed": true
   },
   "outputs": [],
   "source": []
  }
 ],
 "metadata": {
  "anaconda-cloud": {},
  "kernelspec": {
   "display_name": "Python [conda root]",
   "language": "python",
   "name": "conda-root-py"
  },
  "language_info": {
   "codemirror_mode": {
    "name": "ipython",
    "version": 3
   },
   "file_extension": ".py",
   "mimetype": "text/x-python",
   "name": "python",
   "nbconvert_exporter": "python",
   "pygments_lexer": "ipython3",
   "version": "3.5.2"
  }
 },
 "nbformat": 4,
 "nbformat_minor": 1
}
